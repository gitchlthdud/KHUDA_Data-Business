{
  "nbformat": 4,
  "nbformat_minor": 0,
  "metadata": {
    "colab": {
      "provenance": []
    },
    "kernelspec": {
      "name": "python3",
      "display_name": "Python 3"
    },
    "language_info": {
      "name": "python"
    }
  },
  "cells": [
    {
      "cell_type": "markdown",
      "source": [
        "# 8장 수치 시뮬레이션으로 소비자의 행동을 예측하는 테크닉 10"
      ],
      "metadata": {
        "id": "hWB8xKhe_h2b"
      }
    },
    {
      "cell_type": "markdown",
      "source": [
        "- 최적화 수법: 조건에 누락이나 오류가 있으면 현실과 다른 정답이 도출되기도 한다.\n",
        "- **수치 시뮬레이션**: 미래 예측을 위한 선택지를 넓혀가는 수법"
      ],
      "metadata": {
        "id": "zBJLkYDK_wpP"
      }
    },
    {
      "cell_type": "markdown",
      "source": [
        "< 전제조건>\n",
        "- links.csv: 재구매 고객 20명의 SNS 연결 상태 (1/0)\n",
        "- links_members.csv: 모든 재구매 고객 540명의 SNS 연결 상태 (1/0)\n",
        "- info_member.csv: 모든 재구매 고객 540명의 2년간 월별 이용 현황 (1/0)"
      ],
      "metadata": {
        "id": "7CIonQNtASMA"
      }
    },
    {
      "cell_type": "code",
      "source": [
        "# 경고(warning) 비표시\n",
        "import warnings\n",
        "warnings.filterwarnings('ignore')"
      ],
      "metadata": {
        "id": "OLWlCqrSAvy1"
      },
      "execution_count": 1,
      "outputs": []
    },
    {
      "cell_type": "markdown",
      "source": [
        "## 71. 인간관계 네트워크를 가시화해보자"
      ],
      "metadata": {
        "id": "-cciMfHEAzft"
      }
    },
    {
      "cell_type": "code",
      "source": [
        "import pandas as pd\n",
        "\n",
        "df_links = pd.read_csv(\"links.csv\")\n",
        "df_links"
      ],
      "metadata": {
        "colab": {
          "base_uri": "https://localhost:8080/",
          "height": 705
        },
        "id": "9SoC1EicA2Wz",
        "outputId": "c671d1ae-8e25-4da0-c2d3-2fde42c76f87"
      },
      "execution_count": 2,
      "outputs": [
        {
          "output_type": "execute_result",
          "data": {
            "text/plain": [
              "   Unnamed: 0  Node0  Node1  Node2  Node3  Node4  Node5  Node6  Node7  Node8  \\\n",
              "0       Node0    0.0    0.0    0.0    0.0    0.0    1.0    0.0    0.0    0.0   \n",
              "1       Node1    0.0    0.0    0.0    0.0    0.0    1.0    0.0    0.0    0.0   \n",
              "2       Node2    0.0    0.0    0.0    0.0    1.0    1.0    1.0    0.0    0.0   \n",
              "3       Node3    0.0    0.0    0.0    0.0    0.0    0.0    0.0    1.0    0.0   \n",
              "4       Node4    0.0    0.0    1.0    0.0    0.0    0.0    0.0    1.0    1.0   \n",
              "5       Node5    1.0    1.0    1.0    0.0    0.0    0.0    0.0    0.0    0.0   \n",
              "6       Node6    0.0    0.0    1.0    0.0    0.0    0.0    0.0    0.0    0.0   \n",
              "7       Node7    0.0    0.0    0.0    1.0    1.0    0.0    0.0    0.0    0.0   \n",
              "8       Node8    0.0    0.0    0.0    0.0    1.0    0.0    0.0    0.0    0.0   \n",
              "9       Node9    0.0    0.0    0.0    0.0    0.0    0.0    0.0    0.0    1.0   \n",
              "10     Node10    0.0    0.0    1.0    0.0    1.0    0.0    0.0    1.0    0.0   \n",
              "11     Node11    0.0    1.0    0.0    0.0    0.0    0.0    0.0    0.0    0.0   \n",
              "12     Node12    0.0    0.0    0.0    0.0    0.0    0.0    0.0    0.0    0.0   \n",
              "13     Node13    0.0    1.0    0.0    0.0    0.0    0.0    0.0    0.0    1.0   \n",
              "14     Node14    0.0    0.0    0.0    0.0    0.0    0.0    0.0    0.0    1.0   \n",
              "15     Node15    1.0    0.0    0.0    1.0    1.0    0.0    0.0    0.0    0.0   \n",
              "16     Node16    0.0    1.0    0.0    0.0    0.0    0.0    0.0    0.0    0.0   \n",
              "17     Node17    0.0    0.0    0.0    0.0    0.0    0.0    1.0    1.0    0.0   \n",
              "18     Node18    0.0    0.0    0.0    0.0    0.0    1.0    0.0    0.0    0.0   \n",
              "19     Node19    0.0    0.0    0.0    0.0    0.0    0.0    0.0    0.0    0.0   \n",
              "\n",
              "    ...  Node10  Node11  Node12  Node13  Node14  Node15  Node16  Node17  \\\n",
              "0   ...     0.0     0.0     0.0     0.0     0.0     1.0     0.0     0.0   \n",
              "1   ...     0.0     1.0     0.0     1.0     0.0     0.0     1.0     0.0   \n",
              "2   ...     1.0     0.0     0.0     0.0     0.0     0.0     0.0     0.0   \n",
              "3   ...     0.0     0.0     0.0     0.0     0.0     1.0     0.0     0.0   \n",
              "4   ...     1.0     0.0     0.0     0.0     0.0     1.0     0.0     0.0   \n",
              "5   ...     0.0     0.0     0.0     0.0     0.0     0.0     0.0     0.0   \n",
              "6   ...     0.0     0.0     0.0     0.0     0.0     0.0     0.0     1.0   \n",
              "7   ...     1.0     0.0     0.0     0.0     0.0     0.0     0.0     1.0   \n",
              "8   ...     0.0     0.0     0.0     1.0     1.0     0.0     0.0     0.0   \n",
              "9   ...     0.0     0.0     1.0     0.0     0.0     0.0     0.0     0.0   \n",
              "10  ...     0.0     1.0     0.0     0.0     0.0     0.0     0.0     0.0   \n",
              "11  ...     1.0     0.0     0.0     0.0     0.0     0.0     0.0     0.0   \n",
              "12  ...     0.0     0.0     0.0     1.0     0.0     0.0     1.0     0.0   \n",
              "13  ...     0.0     0.0     1.0     0.0     0.0     0.0     0.0     0.0   \n",
              "14  ...     0.0     0.0     0.0     0.0     0.0     0.0     0.0     0.0   \n",
              "15  ...     0.0     0.0     0.0     0.0     0.0     0.0     0.0     0.0   \n",
              "16  ...     0.0     0.0     1.0     0.0     0.0     0.0     0.0     1.0   \n",
              "17  ...     0.0     0.0     0.0     0.0     0.0     0.0     1.0     0.0   \n",
              "18  ...     0.0     0.0     0.0     1.0     0.0     0.0     0.0     1.0   \n",
              "19  ...     0.0     0.0     0.0     0.0     0.0     1.0     0.0     0.0   \n",
              "\n",
              "    Node18  Node19  \n",
              "0      0.0     0.0  \n",
              "1      0.0     0.0  \n",
              "2      0.0     0.0  \n",
              "3      0.0     0.0  \n",
              "4      0.0     0.0  \n",
              "5      1.0     0.0  \n",
              "6      0.0     0.0  \n",
              "7      0.0     0.0  \n",
              "8      0.0     0.0  \n",
              "9      0.0     0.0  \n",
              "10     0.0     0.0  \n",
              "11     0.0     0.0  \n",
              "12     0.0     0.0  \n",
              "13     1.0     0.0  \n",
              "14     0.0     0.0  \n",
              "15     0.0     1.0  \n",
              "16     0.0     0.0  \n",
              "17     1.0     0.0  \n",
              "18     0.0     0.0  \n",
              "19     0.0     0.0  \n",
              "\n",
              "[20 rows x 21 columns]"
            ],
            "text/html": [
              "\n",
              "  <div id=\"df-6c7e796d-90c1-40a4-b77e-2ba0437b5510\" class=\"colab-df-container\">\n",
              "    <div>\n",
              "<style scoped>\n",
              "    .dataframe tbody tr th:only-of-type {\n",
              "        vertical-align: middle;\n",
              "    }\n",
              "\n",
              "    .dataframe tbody tr th {\n",
              "        vertical-align: top;\n",
              "    }\n",
              "\n",
              "    .dataframe thead th {\n",
              "        text-align: right;\n",
              "    }\n",
              "</style>\n",
              "<table border=\"1\" class=\"dataframe\">\n",
              "  <thead>\n",
              "    <tr style=\"text-align: right;\">\n",
              "      <th></th>\n",
              "      <th>Unnamed: 0</th>\n",
              "      <th>Node0</th>\n",
              "      <th>Node1</th>\n",
              "      <th>Node2</th>\n",
              "      <th>Node3</th>\n",
              "      <th>Node4</th>\n",
              "      <th>Node5</th>\n",
              "      <th>Node6</th>\n",
              "      <th>Node7</th>\n",
              "      <th>Node8</th>\n",
              "      <th>...</th>\n",
              "      <th>Node10</th>\n",
              "      <th>Node11</th>\n",
              "      <th>Node12</th>\n",
              "      <th>Node13</th>\n",
              "      <th>Node14</th>\n",
              "      <th>Node15</th>\n",
              "      <th>Node16</th>\n",
              "      <th>Node17</th>\n",
              "      <th>Node18</th>\n",
              "      <th>Node19</th>\n",
              "    </tr>\n",
              "  </thead>\n",
              "  <tbody>\n",
              "    <tr>\n",
              "      <th>0</th>\n",
              "      <td>Node0</td>\n",
              "      <td>0.0</td>\n",
              "      <td>0.0</td>\n",
              "      <td>0.0</td>\n",
              "      <td>0.0</td>\n",
              "      <td>0.0</td>\n",
              "      <td>1.0</td>\n",
              "      <td>0.0</td>\n",
              "      <td>0.0</td>\n",
              "      <td>0.0</td>\n",
              "      <td>...</td>\n",
              "      <td>0.0</td>\n",
              "      <td>0.0</td>\n",
              "      <td>0.0</td>\n",
              "      <td>0.0</td>\n",
              "      <td>0.0</td>\n",
              "      <td>1.0</td>\n",
              "      <td>0.0</td>\n",
              "      <td>0.0</td>\n",
              "      <td>0.0</td>\n",
              "      <td>0.0</td>\n",
              "    </tr>\n",
              "    <tr>\n",
              "      <th>1</th>\n",
              "      <td>Node1</td>\n",
              "      <td>0.0</td>\n",
              "      <td>0.0</td>\n",
              "      <td>0.0</td>\n",
              "      <td>0.0</td>\n",
              "      <td>0.0</td>\n",
              "      <td>1.0</td>\n",
              "      <td>0.0</td>\n",
              "      <td>0.0</td>\n",
              "      <td>0.0</td>\n",
              "      <td>...</td>\n",
              "      <td>0.0</td>\n",
              "      <td>1.0</td>\n",
              "      <td>0.0</td>\n",
              "      <td>1.0</td>\n",
              "      <td>0.0</td>\n",
              "      <td>0.0</td>\n",
              "      <td>1.0</td>\n",
              "      <td>0.0</td>\n",
              "      <td>0.0</td>\n",
              "      <td>0.0</td>\n",
              "    </tr>\n",
              "    <tr>\n",
              "      <th>2</th>\n",
              "      <td>Node2</td>\n",
              "      <td>0.0</td>\n",
              "      <td>0.0</td>\n",
              "      <td>0.0</td>\n",
              "      <td>0.0</td>\n",
              "      <td>1.0</td>\n",
              "      <td>1.0</td>\n",
              "      <td>1.0</td>\n",
              "      <td>0.0</td>\n",
              "      <td>0.0</td>\n",
              "      <td>...</td>\n",
              "      <td>1.0</td>\n",
              "      <td>0.0</td>\n",
              "      <td>0.0</td>\n",
              "      <td>0.0</td>\n",
              "      <td>0.0</td>\n",
              "      <td>0.0</td>\n",
              "      <td>0.0</td>\n",
              "      <td>0.0</td>\n",
              "      <td>0.0</td>\n",
              "      <td>0.0</td>\n",
              "    </tr>\n",
              "    <tr>\n",
              "      <th>3</th>\n",
              "      <td>Node3</td>\n",
              "      <td>0.0</td>\n",
              "      <td>0.0</td>\n",
              "      <td>0.0</td>\n",
              "      <td>0.0</td>\n",
              "      <td>0.0</td>\n",
              "      <td>0.0</td>\n",
              "      <td>0.0</td>\n",
              "      <td>1.0</td>\n",
              "      <td>0.0</td>\n",
              "      <td>...</td>\n",
              "      <td>0.0</td>\n",
              "      <td>0.0</td>\n",
              "      <td>0.0</td>\n",
              "      <td>0.0</td>\n",
              "      <td>0.0</td>\n",
              "      <td>1.0</td>\n",
              "      <td>0.0</td>\n",
              "      <td>0.0</td>\n",
              "      <td>0.0</td>\n",
              "      <td>0.0</td>\n",
              "    </tr>\n",
              "    <tr>\n",
              "      <th>4</th>\n",
              "      <td>Node4</td>\n",
              "      <td>0.0</td>\n",
              "      <td>0.0</td>\n",
              "      <td>1.0</td>\n",
              "      <td>0.0</td>\n",
              "      <td>0.0</td>\n",
              "      <td>0.0</td>\n",
              "      <td>0.0</td>\n",
              "      <td>1.0</td>\n",
              "      <td>1.0</td>\n",
              "      <td>...</td>\n",
              "      <td>1.0</td>\n",
              "      <td>0.0</td>\n",
              "      <td>0.0</td>\n",
              "      <td>0.0</td>\n",
              "      <td>0.0</td>\n",
              "      <td>1.0</td>\n",
              "      <td>0.0</td>\n",
              "      <td>0.0</td>\n",
              "      <td>0.0</td>\n",
              "      <td>0.0</td>\n",
              "    </tr>\n",
              "    <tr>\n",
              "      <th>5</th>\n",
              "      <td>Node5</td>\n",
              "      <td>1.0</td>\n",
              "      <td>1.0</td>\n",
              "      <td>1.0</td>\n",
              "      <td>0.0</td>\n",
              "      <td>0.0</td>\n",
              "      <td>0.0</td>\n",
              "      <td>0.0</td>\n",
              "      <td>0.0</td>\n",
              "      <td>0.0</td>\n",
              "      <td>...</td>\n",
              "      <td>0.0</td>\n",
              "      <td>0.0</td>\n",
              "      <td>0.0</td>\n",
              "      <td>0.0</td>\n",
              "      <td>0.0</td>\n",
              "      <td>0.0</td>\n",
              "      <td>0.0</td>\n",
              "      <td>0.0</td>\n",
              "      <td>1.0</td>\n",
              "      <td>0.0</td>\n",
              "    </tr>\n",
              "    <tr>\n",
              "      <th>6</th>\n",
              "      <td>Node6</td>\n",
              "      <td>0.0</td>\n",
              "      <td>0.0</td>\n",
              "      <td>1.0</td>\n",
              "      <td>0.0</td>\n",
              "      <td>0.0</td>\n",
              "      <td>0.0</td>\n",
              "      <td>0.0</td>\n",
              "      <td>0.0</td>\n",
              "      <td>0.0</td>\n",
              "      <td>...</td>\n",
              "      <td>0.0</td>\n",
              "      <td>0.0</td>\n",
              "      <td>0.0</td>\n",
              "      <td>0.0</td>\n",
              "      <td>0.0</td>\n",
              "      <td>0.0</td>\n",
              "      <td>0.0</td>\n",
              "      <td>1.0</td>\n",
              "      <td>0.0</td>\n",
              "      <td>0.0</td>\n",
              "    </tr>\n",
              "    <tr>\n",
              "      <th>7</th>\n",
              "      <td>Node7</td>\n",
              "      <td>0.0</td>\n",
              "      <td>0.0</td>\n",
              "      <td>0.0</td>\n",
              "      <td>1.0</td>\n",
              "      <td>1.0</td>\n",
              "      <td>0.0</td>\n",
              "      <td>0.0</td>\n",
              "      <td>0.0</td>\n",
              "      <td>0.0</td>\n",
              "      <td>...</td>\n",
              "      <td>1.0</td>\n",
              "      <td>0.0</td>\n",
              "      <td>0.0</td>\n",
              "      <td>0.0</td>\n",
              "      <td>0.0</td>\n",
              "      <td>0.0</td>\n",
              "      <td>0.0</td>\n",
              "      <td>1.0</td>\n",
              "      <td>0.0</td>\n",
              "      <td>0.0</td>\n",
              "    </tr>\n",
              "    <tr>\n",
              "      <th>8</th>\n",
              "      <td>Node8</td>\n",
              "      <td>0.0</td>\n",
              "      <td>0.0</td>\n",
              "      <td>0.0</td>\n",
              "      <td>0.0</td>\n",
              "      <td>1.0</td>\n",
              "      <td>0.0</td>\n",
              "      <td>0.0</td>\n",
              "      <td>0.0</td>\n",
              "      <td>0.0</td>\n",
              "      <td>...</td>\n",
              "      <td>0.0</td>\n",
              "      <td>0.0</td>\n",
              "      <td>0.0</td>\n",
              "      <td>1.0</td>\n",
              "      <td>1.0</td>\n",
              "      <td>0.0</td>\n",
              "      <td>0.0</td>\n",
              "      <td>0.0</td>\n",
              "      <td>0.0</td>\n",
              "      <td>0.0</td>\n",
              "    </tr>\n",
              "    <tr>\n",
              "      <th>9</th>\n",
              "      <td>Node9</td>\n",
              "      <td>0.0</td>\n",
              "      <td>0.0</td>\n",
              "      <td>0.0</td>\n",
              "      <td>0.0</td>\n",
              "      <td>0.0</td>\n",
              "      <td>0.0</td>\n",
              "      <td>0.0</td>\n",
              "      <td>0.0</td>\n",
              "      <td>1.0</td>\n",
              "      <td>...</td>\n",
              "      <td>0.0</td>\n",
              "      <td>0.0</td>\n",
              "      <td>1.0</td>\n",
              "      <td>0.0</td>\n",
              "      <td>0.0</td>\n",
              "      <td>0.0</td>\n",
              "      <td>0.0</td>\n",
              "      <td>0.0</td>\n",
              "      <td>0.0</td>\n",
              "      <td>0.0</td>\n",
              "    </tr>\n",
              "    <tr>\n",
              "      <th>10</th>\n",
              "      <td>Node10</td>\n",
              "      <td>0.0</td>\n",
              "      <td>0.0</td>\n",
              "      <td>1.0</td>\n",
              "      <td>0.0</td>\n",
              "      <td>1.0</td>\n",
              "      <td>0.0</td>\n",
              "      <td>0.0</td>\n",
              "      <td>1.0</td>\n",
              "      <td>0.0</td>\n",
              "      <td>...</td>\n",
              "      <td>0.0</td>\n",
              "      <td>1.0</td>\n",
              "      <td>0.0</td>\n",
              "      <td>0.0</td>\n",
              "      <td>0.0</td>\n",
              "      <td>0.0</td>\n",
              "      <td>0.0</td>\n",
              "      <td>0.0</td>\n",
              "      <td>0.0</td>\n",
              "      <td>0.0</td>\n",
              "    </tr>\n",
              "    <tr>\n",
              "      <th>11</th>\n",
              "      <td>Node11</td>\n",
              "      <td>0.0</td>\n",
              "      <td>1.0</td>\n",
              "      <td>0.0</td>\n",
              "      <td>0.0</td>\n",
              "      <td>0.0</td>\n",
              "      <td>0.0</td>\n",
              "      <td>0.0</td>\n",
              "      <td>0.0</td>\n",
              "      <td>0.0</td>\n",
              "      <td>...</td>\n",
              "      <td>1.0</td>\n",
              "      <td>0.0</td>\n",
              "      <td>0.0</td>\n",
              "      <td>0.0</td>\n",
              "      <td>0.0</td>\n",
              "      <td>0.0</td>\n",
              "      <td>0.0</td>\n",
              "      <td>0.0</td>\n",
              "      <td>0.0</td>\n",
              "      <td>0.0</td>\n",
              "    </tr>\n",
              "    <tr>\n",
              "      <th>12</th>\n",
              "      <td>Node12</td>\n",
              "      <td>0.0</td>\n",
              "      <td>0.0</td>\n",
              "      <td>0.0</td>\n",
              "      <td>0.0</td>\n",
              "      <td>0.0</td>\n",
              "      <td>0.0</td>\n",
              "      <td>0.0</td>\n",
              "      <td>0.0</td>\n",
              "      <td>0.0</td>\n",
              "      <td>...</td>\n",
              "      <td>0.0</td>\n",
              "      <td>0.0</td>\n",
              "      <td>0.0</td>\n",
              "      <td>1.0</td>\n",
              "      <td>0.0</td>\n",
              "      <td>0.0</td>\n",
              "      <td>1.0</td>\n",
              "      <td>0.0</td>\n",
              "      <td>0.0</td>\n",
              "      <td>0.0</td>\n",
              "    </tr>\n",
              "    <tr>\n",
              "      <th>13</th>\n",
              "      <td>Node13</td>\n",
              "      <td>0.0</td>\n",
              "      <td>1.0</td>\n",
              "      <td>0.0</td>\n",
              "      <td>0.0</td>\n",
              "      <td>0.0</td>\n",
              "      <td>0.0</td>\n",
              "      <td>0.0</td>\n",
              "      <td>0.0</td>\n",
              "      <td>1.0</td>\n",
              "      <td>...</td>\n",
              "      <td>0.0</td>\n",
              "      <td>0.0</td>\n",
              "      <td>1.0</td>\n",
              "      <td>0.0</td>\n",
              "      <td>0.0</td>\n",
              "      <td>0.0</td>\n",
              "      <td>0.0</td>\n",
              "      <td>0.0</td>\n",
              "      <td>1.0</td>\n",
              "      <td>0.0</td>\n",
              "    </tr>\n",
              "    <tr>\n",
              "      <th>14</th>\n",
              "      <td>Node14</td>\n",
              "      <td>0.0</td>\n",
              "      <td>0.0</td>\n",
              "      <td>0.0</td>\n",
              "      <td>0.0</td>\n",
              "      <td>0.0</td>\n",
              "      <td>0.0</td>\n",
              "      <td>0.0</td>\n",
              "      <td>0.0</td>\n",
              "      <td>1.0</td>\n",
              "      <td>...</td>\n",
              "      <td>0.0</td>\n",
              "      <td>0.0</td>\n",
              "      <td>0.0</td>\n",
              "      <td>0.0</td>\n",
              "      <td>0.0</td>\n",
              "      <td>0.0</td>\n",
              "      <td>0.0</td>\n",
              "      <td>0.0</td>\n",
              "      <td>0.0</td>\n",
              "      <td>0.0</td>\n",
              "    </tr>\n",
              "    <tr>\n",
              "      <th>15</th>\n",
              "      <td>Node15</td>\n",
              "      <td>1.0</td>\n",
              "      <td>0.0</td>\n",
              "      <td>0.0</td>\n",
              "      <td>1.0</td>\n",
              "      <td>1.0</td>\n",
              "      <td>0.0</td>\n",
              "      <td>0.0</td>\n",
              "      <td>0.0</td>\n",
              "      <td>0.0</td>\n",
              "      <td>...</td>\n",
              "      <td>0.0</td>\n",
              "      <td>0.0</td>\n",
              "      <td>0.0</td>\n",
              "      <td>0.0</td>\n",
              "      <td>0.0</td>\n",
              "      <td>0.0</td>\n",
              "      <td>0.0</td>\n",
              "      <td>0.0</td>\n",
              "      <td>0.0</td>\n",
              "      <td>1.0</td>\n",
              "    </tr>\n",
              "    <tr>\n",
              "      <th>16</th>\n",
              "      <td>Node16</td>\n",
              "      <td>0.0</td>\n",
              "      <td>1.0</td>\n",
              "      <td>0.0</td>\n",
              "      <td>0.0</td>\n",
              "      <td>0.0</td>\n",
              "      <td>0.0</td>\n",
              "      <td>0.0</td>\n",
              "      <td>0.0</td>\n",
              "      <td>0.0</td>\n",
              "      <td>...</td>\n",
              "      <td>0.0</td>\n",
              "      <td>0.0</td>\n",
              "      <td>1.0</td>\n",
              "      <td>0.0</td>\n",
              "      <td>0.0</td>\n",
              "      <td>0.0</td>\n",
              "      <td>0.0</td>\n",
              "      <td>1.0</td>\n",
              "      <td>0.0</td>\n",
              "      <td>0.0</td>\n",
              "    </tr>\n",
              "    <tr>\n",
              "      <th>17</th>\n",
              "      <td>Node17</td>\n",
              "      <td>0.0</td>\n",
              "      <td>0.0</td>\n",
              "      <td>0.0</td>\n",
              "      <td>0.0</td>\n",
              "      <td>0.0</td>\n",
              "      <td>0.0</td>\n",
              "      <td>1.0</td>\n",
              "      <td>1.0</td>\n",
              "      <td>0.0</td>\n",
              "      <td>...</td>\n",
              "      <td>0.0</td>\n",
              "      <td>0.0</td>\n",
              "      <td>0.0</td>\n",
              "      <td>0.0</td>\n",
              "      <td>0.0</td>\n",
              "      <td>0.0</td>\n",
              "      <td>1.0</td>\n",
              "      <td>0.0</td>\n",
              "      <td>1.0</td>\n",
              "      <td>0.0</td>\n",
              "    </tr>\n",
              "    <tr>\n",
              "      <th>18</th>\n",
              "      <td>Node18</td>\n",
              "      <td>0.0</td>\n",
              "      <td>0.0</td>\n",
              "      <td>0.0</td>\n",
              "      <td>0.0</td>\n",
              "      <td>0.0</td>\n",
              "      <td>1.0</td>\n",
              "      <td>0.0</td>\n",
              "      <td>0.0</td>\n",
              "      <td>0.0</td>\n",
              "      <td>...</td>\n",
              "      <td>0.0</td>\n",
              "      <td>0.0</td>\n",
              "      <td>0.0</td>\n",
              "      <td>1.0</td>\n",
              "      <td>0.0</td>\n",
              "      <td>0.0</td>\n",
              "      <td>0.0</td>\n",
              "      <td>1.0</td>\n",
              "      <td>0.0</td>\n",
              "      <td>0.0</td>\n",
              "    </tr>\n",
              "    <tr>\n",
              "      <th>19</th>\n",
              "      <td>Node19</td>\n",
              "      <td>0.0</td>\n",
              "      <td>0.0</td>\n",
              "      <td>0.0</td>\n",
              "      <td>0.0</td>\n",
              "      <td>0.0</td>\n",
              "      <td>0.0</td>\n",
              "      <td>0.0</td>\n",
              "      <td>0.0</td>\n",
              "      <td>0.0</td>\n",
              "      <td>...</td>\n",
              "      <td>0.0</td>\n",
              "      <td>0.0</td>\n",
              "      <td>0.0</td>\n",
              "      <td>0.0</td>\n",
              "      <td>0.0</td>\n",
              "      <td>1.0</td>\n",
              "      <td>0.0</td>\n",
              "      <td>0.0</td>\n",
              "      <td>0.0</td>\n",
              "      <td>0.0</td>\n",
              "    </tr>\n",
              "  </tbody>\n",
              "</table>\n",
              "<p>20 rows × 21 columns</p>\n",
              "</div>\n",
              "    <div class=\"colab-df-buttons\">\n",
              "\n",
              "  <div class=\"colab-df-container\">\n",
              "    <button class=\"colab-df-convert\" onclick=\"convertToInteractive('df-6c7e796d-90c1-40a4-b77e-2ba0437b5510')\"\n",
              "            title=\"Convert this dataframe to an interactive table.\"\n",
              "            style=\"display:none;\">\n",
              "\n",
              "  <svg xmlns=\"http://www.w3.org/2000/svg\" height=\"24px\" viewBox=\"0 -960 960 960\">\n",
              "    <path d=\"M120-120v-720h720v720H120Zm60-500h600v-160H180v160Zm220 220h160v-160H400v160Zm0 220h160v-160H400v160ZM180-400h160v-160H180v160Zm440 0h160v-160H620v160ZM180-180h160v-160H180v160Zm440 0h160v-160H620v160Z\"/>\n",
              "  </svg>\n",
              "    </button>\n",
              "\n",
              "  <style>\n",
              "    .colab-df-container {\n",
              "      display:flex;\n",
              "      gap: 12px;\n",
              "    }\n",
              "\n",
              "    .colab-df-convert {\n",
              "      background-color: #E8F0FE;\n",
              "      border: none;\n",
              "      border-radius: 50%;\n",
              "      cursor: pointer;\n",
              "      display: none;\n",
              "      fill: #1967D2;\n",
              "      height: 32px;\n",
              "      padding: 0 0 0 0;\n",
              "      width: 32px;\n",
              "    }\n",
              "\n",
              "    .colab-df-convert:hover {\n",
              "      background-color: #E2EBFA;\n",
              "      box-shadow: 0px 1px 2px rgba(60, 64, 67, 0.3), 0px 1px 3px 1px rgba(60, 64, 67, 0.15);\n",
              "      fill: #174EA6;\n",
              "    }\n",
              "\n",
              "    .colab-df-buttons div {\n",
              "      margin-bottom: 4px;\n",
              "    }\n",
              "\n",
              "    [theme=dark] .colab-df-convert {\n",
              "      background-color: #3B4455;\n",
              "      fill: #D2E3FC;\n",
              "    }\n",
              "\n",
              "    [theme=dark] .colab-df-convert:hover {\n",
              "      background-color: #434B5C;\n",
              "      box-shadow: 0px 1px 3px 1px rgba(0, 0, 0, 0.15);\n",
              "      filter: drop-shadow(0px 1px 2px rgba(0, 0, 0, 0.3));\n",
              "      fill: #FFFFFF;\n",
              "    }\n",
              "  </style>\n",
              "\n",
              "    <script>\n",
              "      const buttonEl =\n",
              "        document.querySelector('#df-6c7e796d-90c1-40a4-b77e-2ba0437b5510 button.colab-df-convert');\n",
              "      buttonEl.style.display =\n",
              "        google.colab.kernel.accessAllowed ? 'block' : 'none';\n",
              "\n",
              "      async function convertToInteractive(key) {\n",
              "        const element = document.querySelector('#df-6c7e796d-90c1-40a4-b77e-2ba0437b5510');\n",
              "        const dataTable =\n",
              "          await google.colab.kernel.invokeFunction('convertToInteractive',\n",
              "                                                    [key], {});\n",
              "        if (!dataTable) return;\n",
              "\n",
              "        const docLinkHtml = 'Like what you see? Visit the ' +\n",
              "          '<a target=\"_blank\" href=https://colab.research.google.com/notebooks/data_table.ipynb>data table notebook</a>'\n",
              "          + ' to learn more about interactive tables.';\n",
              "        element.innerHTML = '';\n",
              "        dataTable['output_type'] = 'display_data';\n",
              "        await google.colab.output.renderOutput(dataTable, element);\n",
              "        const docLink = document.createElement('div');\n",
              "        docLink.innerHTML = docLinkHtml;\n",
              "        element.appendChild(docLink);\n",
              "      }\n",
              "    </script>\n",
              "  </div>\n",
              "\n",
              "\n",
              "<div id=\"df-5b3f198e-911c-4707-be8d-9b0805371a52\">\n",
              "  <button class=\"colab-df-quickchart\" onclick=\"quickchart('df-5b3f198e-911c-4707-be8d-9b0805371a52')\"\n",
              "            title=\"Suggest charts\"\n",
              "            style=\"display:none;\">\n",
              "\n",
              "<svg xmlns=\"http://www.w3.org/2000/svg\" height=\"24px\"viewBox=\"0 0 24 24\"\n",
              "     width=\"24px\">\n",
              "    <g>\n",
              "        <path d=\"M19 3H5c-1.1 0-2 .9-2 2v14c0 1.1.9 2 2 2h14c1.1 0 2-.9 2-2V5c0-1.1-.9-2-2-2zM9 17H7v-7h2v7zm4 0h-2V7h2v10zm4 0h-2v-4h2v4z\"/>\n",
              "    </g>\n",
              "</svg>\n",
              "  </button>\n",
              "\n",
              "<style>\n",
              "  .colab-df-quickchart {\n",
              "      --bg-color: #E8F0FE;\n",
              "      --fill-color: #1967D2;\n",
              "      --hover-bg-color: #E2EBFA;\n",
              "      --hover-fill-color: #174EA6;\n",
              "      --disabled-fill-color: #AAA;\n",
              "      --disabled-bg-color: #DDD;\n",
              "  }\n",
              "\n",
              "  [theme=dark] .colab-df-quickchart {\n",
              "      --bg-color: #3B4455;\n",
              "      --fill-color: #D2E3FC;\n",
              "      --hover-bg-color: #434B5C;\n",
              "      --hover-fill-color: #FFFFFF;\n",
              "      --disabled-bg-color: #3B4455;\n",
              "      --disabled-fill-color: #666;\n",
              "  }\n",
              "\n",
              "  .colab-df-quickchart {\n",
              "    background-color: var(--bg-color);\n",
              "    border: none;\n",
              "    border-radius: 50%;\n",
              "    cursor: pointer;\n",
              "    display: none;\n",
              "    fill: var(--fill-color);\n",
              "    height: 32px;\n",
              "    padding: 0;\n",
              "    width: 32px;\n",
              "  }\n",
              "\n",
              "  .colab-df-quickchart:hover {\n",
              "    background-color: var(--hover-bg-color);\n",
              "    box-shadow: 0 1px 2px rgba(60, 64, 67, 0.3), 0 1px 3px 1px rgba(60, 64, 67, 0.15);\n",
              "    fill: var(--button-hover-fill-color);\n",
              "  }\n",
              "\n",
              "  .colab-df-quickchart-complete:disabled,\n",
              "  .colab-df-quickchart-complete:disabled:hover {\n",
              "    background-color: var(--disabled-bg-color);\n",
              "    fill: var(--disabled-fill-color);\n",
              "    box-shadow: none;\n",
              "  }\n",
              "\n",
              "  .colab-df-spinner {\n",
              "    border: 2px solid var(--fill-color);\n",
              "    border-color: transparent;\n",
              "    border-bottom-color: var(--fill-color);\n",
              "    animation:\n",
              "      spin 1s steps(1) infinite;\n",
              "  }\n",
              "\n",
              "  @keyframes spin {\n",
              "    0% {\n",
              "      border-color: transparent;\n",
              "      border-bottom-color: var(--fill-color);\n",
              "      border-left-color: var(--fill-color);\n",
              "    }\n",
              "    20% {\n",
              "      border-color: transparent;\n",
              "      border-left-color: var(--fill-color);\n",
              "      border-top-color: var(--fill-color);\n",
              "    }\n",
              "    30% {\n",
              "      border-color: transparent;\n",
              "      border-left-color: var(--fill-color);\n",
              "      border-top-color: var(--fill-color);\n",
              "      border-right-color: var(--fill-color);\n",
              "    }\n",
              "    40% {\n",
              "      border-color: transparent;\n",
              "      border-right-color: var(--fill-color);\n",
              "      border-top-color: var(--fill-color);\n",
              "    }\n",
              "    60% {\n",
              "      border-color: transparent;\n",
              "      border-right-color: var(--fill-color);\n",
              "    }\n",
              "    80% {\n",
              "      border-color: transparent;\n",
              "      border-right-color: var(--fill-color);\n",
              "      border-bottom-color: var(--fill-color);\n",
              "    }\n",
              "    90% {\n",
              "      border-color: transparent;\n",
              "      border-bottom-color: var(--fill-color);\n",
              "    }\n",
              "  }\n",
              "</style>\n",
              "\n",
              "  <script>\n",
              "    async function quickchart(key) {\n",
              "      const quickchartButtonEl =\n",
              "        document.querySelector('#' + key + ' button');\n",
              "      quickchartButtonEl.disabled = true;  // To prevent multiple clicks.\n",
              "      quickchartButtonEl.classList.add('colab-df-spinner');\n",
              "      try {\n",
              "        const charts = await google.colab.kernel.invokeFunction(\n",
              "            'suggestCharts', [key], {});\n",
              "      } catch (error) {\n",
              "        console.error('Error during call to suggestCharts:', error);\n",
              "      }\n",
              "      quickchartButtonEl.classList.remove('colab-df-spinner');\n",
              "      quickchartButtonEl.classList.add('colab-df-quickchart-complete');\n",
              "    }\n",
              "    (() => {\n",
              "      let quickchartButtonEl =\n",
              "        document.querySelector('#df-5b3f198e-911c-4707-be8d-9b0805371a52 button');\n",
              "      quickchartButtonEl.style.display =\n",
              "        google.colab.kernel.accessAllowed ? 'block' : 'none';\n",
              "    })();\n",
              "  </script>\n",
              "</div>\n",
              "\n",
              "  <div id=\"id_8517722a-6cad-4fd5-8259-aec9424f3728\">\n",
              "    <style>\n",
              "      .colab-df-generate {\n",
              "        background-color: #E8F0FE;\n",
              "        border: none;\n",
              "        border-radius: 50%;\n",
              "        cursor: pointer;\n",
              "        display: none;\n",
              "        fill: #1967D2;\n",
              "        height: 32px;\n",
              "        padding: 0 0 0 0;\n",
              "        width: 32px;\n",
              "      }\n",
              "\n",
              "      .colab-df-generate:hover {\n",
              "        background-color: #E2EBFA;\n",
              "        box-shadow: 0px 1px 2px rgba(60, 64, 67, 0.3), 0px 1px 3px 1px rgba(60, 64, 67, 0.15);\n",
              "        fill: #174EA6;\n",
              "      }\n",
              "\n",
              "      [theme=dark] .colab-df-generate {\n",
              "        background-color: #3B4455;\n",
              "        fill: #D2E3FC;\n",
              "      }\n",
              "\n",
              "      [theme=dark] .colab-df-generate:hover {\n",
              "        background-color: #434B5C;\n",
              "        box-shadow: 0px 1px 3px 1px rgba(0, 0, 0, 0.15);\n",
              "        filter: drop-shadow(0px 1px 2px rgba(0, 0, 0, 0.3));\n",
              "        fill: #FFFFFF;\n",
              "      }\n",
              "    </style>\n",
              "    <button class=\"colab-df-generate\" onclick=\"generateWithVariable('df_links')\"\n",
              "            title=\"Generate code using this dataframe.\"\n",
              "            style=\"display:none;\">\n",
              "\n",
              "  <svg xmlns=\"http://www.w3.org/2000/svg\" height=\"24px\"viewBox=\"0 0 24 24\"\n",
              "       width=\"24px\">\n",
              "    <path d=\"M7,19H8.4L18.45,9,17,7.55,7,17.6ZM5,21V16.75L18.45,3.32a2,2,0,0,1,2.83,0l1.4,1.43a1.91,1.91,0,0,1,.58,1.4,1.91,1.91,0,0,1-.58,1.4L9.25,21ZM18.45,9,17,7.55Zm-12,3A5.31,5.31,0,0,0,4.9,8.1,5.31,5.31,0,0,0,1,6.5,5.31,5.31,0,0,0,4.9,4.9,5.31,5.31,0,0,0,6.5,1,5.31,5.31,0,0,0,8.1,4.9,5.31,5.31,0,0,0,12,6.5,5.46,5.46,0,0,0,6.5,12Z\"/>\n",
              "  </svg>\n",
              "    </button>\n",
              "    <script>\n",
              "      (() => {\n",
              "      const buttonEl =\n",
              "        document.querySelector('#id_8517722a-6cad-4fd5-8259-aec9424f3728 button.colab-df-generate');\n",
              "      buttonEl.style.display =\n",
              "        google.colab.kernel.accessAllowed ? 'block' : 'none';\n",
              "\n",
              "      buttonEl.onclick = () => {\n",
              "        google.colab.notebook.generateWithVariable('df_links');\n",
              "      }\n",
              "      })();\n",
              "    </script>\n",
              "  </div>\n",
              "\n",
              "    </div>\n",
              "  </div>\n"
            ],
            "application/vnd.google.colaboratory.intrinsic+json": {
              "type": "dataframe",
              "variable_name": "df_links"
            }
          },
          "metadata": {},
          "execution_count": 2
        }
      ]
    },
    {
      "cell_type": "markdown",
      "source": [
        "- 연결 가시화 방법: networkx\n",
        "  - draw: 기본적인 시각화 함수, 라벨을 표시하지 않는다\n",
        "  - draw_networkx\n",
        "    - 다른 것과 연결이 많은 노드를 중심에 오게 자동으로 위치를 결정해서 가시화\n",
        "    - 노드와 엣지 라벨을 표시한다\n",
        "    - 재현성이 없기 때문에 실행 시에 그래프가 달라진다"
      ],
      "metadata": {
        "id": "RNwEfK4oA5Kx"
      }
    },
    {
      "cell_type": "code",
      "source": [
        "import networkx as nx\n",
        "import matplotlib.pyplot as plt\n",
        "\n",
        "# 그래프 객체 생성\n",
        "G = nx.Graph()\n",
        "\n",
        "# 노드\n",
        "NUM = len(df_links.index)   # 노드수\n",
        "for i in range(1,NUM+1):\n",
        "    node_no = df_links.columns[i].strip(\"Node\")   # 노드 번호\n",
        "    G.add_node(str(node_no))    # 노드 번호 str 변환 -> G에 추가\n",
        "\n",
        "# 엣지\n",
        "for i in range(NUM):\n",
        "    for j in range(NUM):\n",
        "        node_name = \"Node\" + str(j)\n",
        "        if df_links[node_name].iloc[i]==1:\n",
        "            G.add_edge(str(i),str(j))   # 연결되어 있으면 엣지 추가\n",
        "\n",
        "# 그리기\n",
        "nx.draw_networkx(G,node_color=\"k\", edge_color=\"k\", font_color=\"w\")\n",
        "plt.show()"
      ],
      "metadata": {
        "colab": {
          "base_uri": "https://localhost:8080/",
          "height": 406
        },
        "id": "FGnjNFQuBEqK",
        "outputId": "2e143893-b5b4-45a8-ead9-431ef03fd1a5"
      },
      "execution_count": 3,
      "outputs": [
        {
          "output_type": "display_data",
          "data": {
            "text/plain": [
              "<Figure size 640x480 with 1 Axes>"
            ],
            "image/png": "[encoded data removed]"
          },
          "metadata": {}
        }
      ]
    },
    {
      "cell_type": "markdown",
      "source": [
        "## 72. 입소문에 의한 정보 전파 모습을 가시화해보자"
      ],
      "metadata": {
        "id": "Escoy2oqCCAO"
      }
    },
    {
      "cell_type": "markdown",
      "source": [
        "- 입소문 전파 모습을 시뮬레이션해보자!!\n",
        "\n",
        "\n",
        "> **'10개의 연결 중 하나의 확률(10% 확률)로 소문이 전파된다.'**라고 가정\n",
        "\n"
      ],
      "metadata": {
        "id": "-Oa7g-9cDEy4"
      }
    },
    {
      "cell_type": "markdown",
      "source": [
        "### 입소문 상태"
      ],
      "metadata": {
        "id": "leEghR8EGX9z"
      }
    },
    {
      "cell_type": "code",
      "source": [
        "import numpy as np"
      ],
      "metadata": {
        "id": "j9TIjpGdDdCO"
      },
      "execution_count": 4,
      "outputs": []
    },
    {
      "cell_type": "markdown",
      "source": [
        "- determine_link 함수: 입소문의 전파 여부를 확률적으로 결정\n",
        "- simulate_percolation 함수: 입소문을 시뮬레이션"
      ],
      "metadata": {
        "id": "RoC-QJLmEglL"
      }
    },
    {
      "cell_type": "code",
      "source": [
        "def determine_link(percent):    # percent: 연결될 확률\n",
        "    rand_val = np.random.rand()\n",
        "\n",
        "    if rand_val<=percent:\n",
        "        return 1    # 노드 간에 링크가 있다고 가정\n",
        "    else:\n",
        "        return 0"
      ],
      "metadata": {
        "id": "E5I7ZLdJDlH7"
      },
      "execution_count": 5,
      "outputs": []
    },
    {
      "cell_type": "code",
      "source": [
        "# num: 노드수, list_active: 노드 활성화 여부, percent_percolation: 입소문을 일으킬 확률\n",
        "def simulate_percolation(num, list_active, percent_percolation):\n",
        "    for i in range(num):\n",
        "        if list_active[i]==1:\n",
        "            for j in range(num):\n",
        "                node_name = \"Node\" + str(j)\n",
        "                if df_links[node_name].iloc[i]==1:\n",
        "                    if determine_link(percent_percolation)==1:\n",
        "                        list_active[j] = 1\n",
        "    return list_active"
      ],
      "metadata": {
        "id": "bBeJNpnCDmS5"
      },
      "execution_count": 6,
      "outputs": []
    },
    {
      "cell_type": "code",
      "source": [
        "percent_percolation = 0.1   # 입소문을 일으킬 확률 10%\n",
        "T_NUM = 36                  # 36개월 반복\n",
        "NUM = len(df_links.index)\n",
        "list_active = np.zeros(NUM)\n",
        "list_active[0] = 1\n",
        "\n",
        "list_timeSeries = []\n",
        "for t in range(T_NUM):\n",
        "    list_active = simulate_percolation(NUM, list_active, percent_percolation)\n",
        "    list_timeSeries.append(list_active.copy())"
      ],
      "metadata": {
        "id": "WAdja0T9DqJt"
      },
      "execution_count": 7,
      "outputs": []
    },
    {
      "cell_type": "markdown",
      "source": [
        "### 입소문 모습을 네트워크로 가시화"
      ],
      "metadata": {
        "id": "mF8Y3RiNEVUU"
      }
    },
    {
      "cell_type": "markdown",
      "source": [
        "- active_node_coloring\n",
        "  - 입소문 전파 노드: 빨강\n",
        "  - 입소문 전파X 노드: 검정\n",
        "  - 1개월 후 -> 11개월 후 -> 36개월 후를 가시화해보자"
      ],
      "metadata": {
        "id": "XYD1q9qFG42b"
      }
    },
    {
      "cell_type": "code",
      "source": [
        "def active_node_coloring(list_active):\n",
        "    #print(list_timeSeries[t])\n",
        "    list_color = []\n",
        "    for i in range(len(list_timeSeries[t])):\n",
        "        if list_timeSeries[t][i]==1:\n",
        "            list_color.append(\"r\")\n",
        "        else:\n",
        "            list_color.append(\"k\")\n",
        "    #print(len(list_color))\n",
        "    return list_color"
      ],
      "metadata": {
        "id": "T2yRLJG9DrUD"
      },
      "execution_count": 8,
      "outputs": []
    },
    {
      "cell_type": "code",
      "source": [
        "t = 0\n",
        "nx.draw_networkx(G,font_color=\"w\",node_color=active_node_coloring(list_timeSeries[t]))\n",
        "plt.show()"
      ],
      "metadata": {
        "colab": {
          "base_uri": "https://localhost:8080/",
          "height": 406
        },
        "id": "eTWhbMKkDsh8",
        "outputId": "873ab5e2-aba2-4400-d752-58b42867180a"
      },
      "execution_count": 9,
      "outputs": [
        {
          "output_type": "display_data",
          "data": {
            "text/plain": [
              "<Figure size 640x480 with 1 Axes>"
            ],
            "image/png": "[encoded data removed]"
          },
          "metadata": {}
        }
      ]
    },
    {
      "cell_type": "code",
      "source": [
        "t = 11\n",
        "nx.draw_networkx(G,font_color=\"w\",node_color=active_node_coloring(list_timeSeries[t]))\n",
        "plt.show()"
      ],
      "metadata": {
        "colab": {
          "base_uri": "https://localhost:8080/",
          "height": 406
        },
        "id": "rbt4zZw0GofS",
        "outputId": "fda3c5d9-251a-4bce-bf17-69e9cdc4d721"
      },
      "execution_count": 10,
      "outputs": [
        {
          "output_type": "display_data",
          "data": {
            "text/plain": [
              "<Figure size 640x480 with 1 Axes>"
            ],
            "image/png": "[encoded data removed]"
          },
          "metadata": {}
        }
      ]
    },
    {
      "cell_type": "code",
      "source": [
        "t = 35\n",
        "nx.draw_networkx(G,font_color=\"w\",node_color=active_node_coloring(list_timeSeries[t]))\n",
        "plt.show()"
      ],
      "metadata": {
        "colab": {
          "base_uri": "https://localhost:8080/",
          "height": 406
        },
        "id": "ZcLNTfT_GpCv",
        "outputId": "62fa5b18-f460-4144-bb8a-e4ed1e0b48ac"
      },
      "execution_count": 11,
      "outputs": [
        {
          "output_type": "display_data",
          "data": {
            "text/plain": [
              "<Figure size 640x480 with 1 Axes>"
            ],
            "image/png": "[encoded data removed]"
          },
          "metadata": {}
        }
      ]
    },
    {
      "cell_type": "markdown",
      "source": [
        "< 입소문 가시화 결과 >\n",
        "- 시간이 지날 수록 입소문이 거의 전원에게 전파되는 모습을 확인할 수 있다."
      ],
      "metadata": {
        "id": "-AGJ20xnGrCr"
      }
    },
    {
      "cell_type": "markdown",
      "source": [
        "## 73. 입소문 수의 시계열 변화를 그래프화해보자"
      ],
      "metadata": {
        "id": "lR57Pj3QHbT8"
      }
    },
    {
      "cell_type": "code",
      "source": [
        "# 시계열 그래프 그리기\n",
        "list_timeSeries_num = []\n",
        "for i in range(len(list_timeSeries)):\n",
        "    list_timeSeries_num.append(sum(list_timeSeries[i]))\n",
        "\n",
        "plt.plot(list_timeSeries_num)\n",
        "plt.show()"
      ],
      "metadata": {
        "colab": {
          "base_uri": "https://localhost:8080/",
          "height": 430
        },
        "id": "QsQVfSCRHemL",
        "outputId": "37e68c71-3ae6-4e29-bf29-24b4bc2dbdf5"
      },
      "execution_count": 12,
      "outputs": [
        {
          "output_type": "display_data",
          "data": {
            "text/plain": [
              "<Figure size 640x480 with 1 Axes>"
            ],
            "image/png": "[encoded data removed]"
          },
          "metadata": {}
        }
      ]
    },
    {
      "cell_type": "markdown",
      "source": [
        "## 74. 회원수의 시계열 변화를 시뮬레이션해보자"
      ],
      "metadata": {
        "id": "9cg3wXsSHjsD"
      }
    },
    {
      "cell_type": "markdown",
      "source": [
        "\n",
        "\n",
        "> 입소문을 통해 스포츠 센터의 이용 상황이 어떻게 변화할까?\n",
        "\n"
      ],
      "metadata": {
        "id": "Wl_SN8coItVZ"
      }
    },
    {
      "cell_type": "markdown",
      "source": [
        "- simulate_population 함수\n",
        "  - 매개변수\n",
        "    1. num: 노드수\n",
        "    2. list_active: 노드의 활성화 상태\n",
        "    3. percent_percolation: 확산 확률\n",
        "    4. percent_disappearence: 소멸 확률\n",
        "    5. df_links: 노드들 간의 연결 관계\n",
        "  \n",
        "  - 확산: 노드 활성화 & 연결 활성화 & 확산 확률에 따라 활성화(1)\n",
        "  - 소멸: 소멸 확률에 따라 비활성화(0)"
      ],
      "metadata": {
        "id": "x8ciF7YxJRn-"
      }
    },
    {
      "cell_type": "code",
      "source": [
        "def simulate_population(num, list_active, percent_percolation, percent_disapparence,df_links):\n",
        "    # 확산 #\n",
        "    for i in range(num):\n",
        "        if list_active[i]==1:\n",
        "            for j in range(num):\n",
        "                if df_links.iloc[i][j]==1:\n",
        "                    if determine_link(percent_percolation)==1:\n",
        "                        list_active[j] = 1\n",
        "    # 소멸 #\n",
        "    for i in range(num):\n",
        "        if determine_link(percent_disapparence)==1:\n",
        "            list_active[i] = 0\n",
        "    return list_active"
      ],
      "metadata": {
        "id": "BEIlQRvWHtxz"
      },
      "execution_count": 13,
      "outputs": []
    },
    {
      "cell_type": "markdown",
      "source": [
        "### 시계열 그래프"
      ],
      "metadata": {
        "id": "FyU77Ch0LNVB"
      }
    },
    {
      "cell_type": "markdown",
      "source": [
        "#### 확산 확률 10% & 소멸 확률 5%"
      ],
      "metadata": {
        "id": "ZsML61MYKYoT"
      }
    },
    {
      "cell_type": "code",
      "source": [
        "percent_percolation = 0.1\n",
        "percent_disapparence = 0.05\n",
        "T_NUM = 100\n",
        "NUM = len(df_links.index)\n",
        "list_active = np.zeros(NUM)\n",
        "list_active[0] = 1\n",
        "\n",
        "list_timeSeries = []\n",
        "for t in range(T_NUM):\n",
        "    list_active = simulate_population(NUM, list_active, percent_percolation, percent_disapparence,df_links)\n",
        "    list_timeSeries.append(list_active.copy())"
      ],
      "metadata": {
        "id": "izkMyYF0KMuG"
      },
      "execution_count": 14,
      "outputs": []
    },
    {
      "cell_type": "code",
      "source": [
        "# 시계열 그래프 그리기\n",
        "list_timeSeries_num = []\n",
        "for i in range(len(list_timeSeries)):\n",
        "    list_timeSeries_num.append(sum(list_timeSeries[i]))\n",
        "\n",
        "plt.plot(list_timeSeries_num)\n",
        "plt.show()"
      ],
      "metadata": {
        "colab": {
          "base_uri": "https://localhost:8080/",
          "height": 430
        },
        "id": "fDZ4ojvfKPR9",
        "outputId": "f490cf90-fd5f-44ca-8c23-6fa7e94ef273"
      },
      "execution_count": 15,
      "outputs": [
        {
          "output_type": "display_data",
          "data": {
            "text/plain": [
              "<Figure size 640x480 with 1 Axes>"
            ],
            "image/png": "[encoded data removed]"
          },
          "metadata": {}
        }
      ]
    },
    {
      "cell_type": "markdown",
      "source": [
        "결과: 회원의 증가과 감소가 반복적으로 일어나면서 결국 계속 증가한다."
      ],
      "metadata": {
        "id": "77o45CpGKtkc"
      }
    },
    {
      "cell_type": "markdown",
      "source": [
        "#### 소멸 확률 20%로 증가"
      ],
      "metadata": {
        "id": "Y-Wn2yL5KQmy"
      }
    },
    {
      "cell_type": "code",
      "source": [
        "percent_disapparence = 0.2\n",
        "list_active = np.zeros(NUM)\n",
        "list_active[0] = 1\n",
        "list_timeSeries = []\n",
        "for t in range(T_NUM):\n",
        "    list_active = simulate_population(NUM, list_active, percent_percolation, percent_disapparence,df_links)\n",
        "    list_timeSeries.append(list_active.copy())"
      ],
      "metadata": {
        "id": "c01WH3EMKkJ7"
      },
      "execution_count": 16,
      "outputs": []
    },
    {
      "cell_type": "code",
      "source": [
        "# 시계열 그래프 그리기\n",
        "list_timeSeries_num = []\n",
        "for i in range(len(list_timeSeries)):\n",
        "    list_timeSeries_num.append(sum(list_timeSeries[i]))\n",
        "\n",
        "plt.plot(list_timeSeries_num)\n",
        "plt.show()"
      ],
      "metadata": {
        "colab": {
          "base_uri": "https://localhost:8080/",
          "height": 430
        },
        "id": "qsEeVXZ0KleF",
        "outputId": "c58ccf40-7c9f-40bb-f4d9-af6209b7c653"
      },
      "execution_count": 17,
      "outputs": [
        {
          "output_type": "display_data",
          "data": {
            "text/plain": [
              "<Figure size 640x480 with 1 Axes>"
            ],
            "image/png": "[encoded data removed]"
          },
          "metadata": {}
        }
      ]
    },
    {
      "cell_type": "markdown",
      "source": [
        "결과: 처음에는 증감의 모습이 보이지만 결국에는 이용자가 없어진다."
      ],
      "metadata": {
        "id": "O_A1vw2rKm2N"
      }
    },
    {
      "cell_type": "markdown",
      "source": [
        "## 75. 파라미터 전체를 '상관관계'를 보면서 파악해보자"
      ],
      "metadata": {
        "id": "qpAjgjynLHvh"
      }
    },
    {
      "cell_type": "markdown",
      "source": [
        "- 확산 확률과 소멸 확률이 활성화된 노드 수에 미치는 영향"
      ],
      "metadata": {
        "id": "frR1AT-7L8d2"
      }
    },
    {
      "cell_type": "code",
      "source": [
        "# 상관관계 계산\n",
        "print(\"상관관계 계산시작\")\n",
        "T_NUM = 100\n",
        "NUM_PhaseDiagram = 20\n",
        "phaseDiagram = np.zeros((NUM_PhaseDiagram,NUM_PhaseDiagram))\n",
        "for i_p in range(NUM_PhaseDiagram):\n",
        "    for i_d in range(NUM_PhaseDiagram):\n",
        "        percent_percolation = 0.05*i_p      # 확산 확률\n",
        "        percent_disapparence = 0.05*i_d     # 소멸 확률\n",
        "        list_active = np.zeros(NUM)         # 노드 초기: 비활성화 상태\n",
        "        list_active[0] = 1\n",
        "        for t in range(T_NUM):\n",
        "            list_active = simulate_population(NUM, list_active, percent_percolation, percent_disapparence,df_links)\n",
        "        phaseDiagram[i_p][i_d] = sum(list_active)     # 활성화된 노드수\n",
        "print(phaseDiagram)"
      ],
      "metadata": {
        "colab": {
          "base_uri": "https://localhost:8080/"
        },
        "id": "A8oL_sqeLf3k",
        "outputId": "d357c20a-0ee6-4a67-9871-98a22d545bf5"
      },
      "execution_count": 18,
      "outputs": [
        {
          "output_type": "stream",
          "name": "stdout",
          "text": [
            "상관관계 계산시작\n",
            "[[ 1.  0.  0.  0.  0.  0.  0.  0.  0.  0.  0.  0.  0.  0.  0.  0.  0.  0.\n",
            "   0.  0.]\n",
            " [20.  3.  0.  0.  0.  0.  0.  0.  0.  0.  0.  0.  0.  0.  0.  0.  0.  0.\n",
            "   0.  0.]\n",
            " [20. 13.  6.  0.  0.  0.  0.  0.  0.  0.  0.  0.  0.  0.  0.  0.  0.  0.\n",
            "   0.  0.]\n",
            " [20. 17. 13.  0.  0.  0.  0.  0.  0.  0.  0.  0.  0.  0.  0.  0.  0.  0.\n",
            "   0.  0.]\n",
            " [20. 14. 14.  9. 16.  0.  0.  0.  0.  0.  0.  0.  0.  0.  0.  0.  0.  0.\n",
            "   0.  0.]\n",
            " [20. 15. 17.  0.  0.  0.  0.  0.  0.  0.  0.  0.  0.  0.  0.  0.  0.  0.\n",
            "   0.  0.]\n",
            " [20. 17. 15. 16. 12.  0.  0.  0.  0.  0.  0.  0.  0.  0.  0.  0.  0.  0.\n",
            "   0.  0.]\n",
            " [20. 18. 17. 16.  0. 10.  0.  0.  0.  0.  0.  0.  0.  0.  0.  0.  0.  0.\n",
            "   0.  0.]\n",
            " [20. 18. 17.  0. 14.  0. 15.  0.  0.  0.  0.  0.  0.  0.  0.  0.  0.  0.\n",
            "   0.  0.]\n",
            " [20. 17. 17. 17. 16. 13. 13.  0.  0.  0.  0.  0.  0.  0.  0.  0.  0.  0.\n",
            "   0.  0.]\n",
            " [20. 19. 15. 15. 18. 17.  6. 13.  7. 12.  0.  0.  0.  0.  0.  0.  0.  0.\n",
            "   0.  0.]\n",
            " [20. 19. 18. 17. 11.  9. 13.  8. 10.  6.  0.  0.  0.  0.  0.  0.  0.  0.\n",
            "   0.  0.]\n",
            " [20. 18. 16. 18. 14. 12. 12. 11.  0.  0.  0.  0.  0.  0.  0.  0.  0.  0.\n",
            "   0.  0.]\n",
            " [20. 16. 16. 16. 16. 16. 10. 12. 10.  7.  0.  0.  0.  0.  0.  0.  0.  0.\n",
            "   0.  0.]\n",
            " [20. 18. 16. 13. 16. 16. 12. 13. 12.  4.  7.  0.  0.  0.  0.  0.  0.  0.\n",
            "   0.  0.]\n",
            " [20. 19. 18. 15. 15. 12. 10. 13. 14. 15.  7.  0.  0.  0.  0.  0.  0.  0.\n",
            "   0.  0.]\n",
            " [20. 18. 19. 18. 17. 16. 13. 12. 13.  9. 10.  9.  0.  0.  0.  0.  0.  0.\n",
            "   0.  0.]\n",
            " [20. 17. 19. 16. 15. 13. 14. 15. 11.  7. 12.  6. 10.  0.  0.  0.  0.  0.\n",
            "   0.  0.]\n",
            " [20. 18. 17. 16. 16. 17. 12.  9. 12. 10.  3.  9.  0.  0.  0.  0.  0.  0.\n",
            "   0.  0.]\n",
            " [20. 17. 16. 15. 13. 14. 13. 12. 14.  9.  5.  0.  0.  1.  0.  0.  0.  0.\n",
            "   0.  0.]]\n"
          ]
        }
      ]
    },
    {
      "cell_type": "code",
      "source": [
        "# 표시\n",
        "plt.matshow(phaseDiagram)\n",
        "plt.colorbar(shrink=0.8)\n",
        "plt.xlabel('percent_disapparence')\n",
        "plt.ylabel('percent_percolation')\n",
        "plt.xticks(np.arange(0.0, 20.0,5), np.arange(0.0, 1.0, 0.25))\n",
        "plt.yticks(np.arange(0.0, 20.0,5), np.arange(0.0, 1.0, 0.25))\n",
        "plt.tick_params(bottom=False,\n",
        "                left=False,\n",
        "                right=False,\n",
        "                top=False)\n",
        "plt.show()"
      ],
      "metadata": {
        "colab": {
          "base_uri": "https://localhost:8080/",
          "height": 378
        },
        "id": "I-nER1MpLqD2",
        "outputId": "43de8fc9-0c1c-436d-ccac-6b56d2414239"
      },
      "execution_count": 19,
      "outputs": [
        {
          "output_type": "display_data",
          "data": {
            "text/plain": [
              "<Figure size 480x480 with 2 Axes>"
            ],
            "image/png": "[encoded data removed]"
          },
          "metadata": {}
        }
      ]
    },
    {
      "cell_type": "markdown",
      "source": [
        "< 상관관계 분석 >\n",
        "  - 소멸 확률이 낮으면 확산 확률이 낮아도 탈퇴를 거의 하지 않는다.\n",
        "  - 소멸 확률이 20~30%를 넘으면 확산 확률이 높아도 이용자는 증가하지 않는다."
      ],
      "metadata": {
        "id": "tnPZ6v-kNDCL"
      }
    },
    {
      "cell_type": "markdown",
      "source": [
        "## 76. 실제 데이터를 불러와보자"
      ],
      "metadata": {
        "id": "unM8G494NAkQ"
      }
    },
    {
      "cell_type": "code",
      "source": [
        "import pandas as pd\n",
        "\n",
        "df_mem_links = pd.read_csv(\"links_members.csv\")\n",
        "df_mem_info = pd.read_csv(\"info_members.csv\")\n",
        "df_mem_links"
      ],
      "metadata": {
        "colab": {
          "base_uri": "https://localhost:8080/",
          "height": 423
        },
        "id": "hrZH83l5N1Cl",
        "outputId": "9c296ca0-5cbe-4546-b2e8-9f0b23849b7f"
      },
      "execution_count": 20,
      "outputs": [
        {
          "output_type": "execute_result",
          "data": {
            "text/plain": [
              "    Unnamed: 0  Node0  Node1  Node2  Node3  Node4  Node5  Node6  Node7  Node8  \\\n",
              "0        Node0    0.0    0.0    1.0    0.0    0.0    0.0    0.0    0.0    0.0   \n",
              "1        Node1    0.0    0.0    0.0    0.0    1.0    1.0    0.0    0.0    0.0   \n",
              "2        Node2    1.0    0.0    0.0    0.0    0.0    1.0    0.0    1.0    0.0   \n",
              "3        Node3    0.0    0.0    0.0    0.0    0.0    0.0    1.0    0.0    0.0   \n",
              "4        Node4    0.0    1.0    0.0    0.0    0.0    1.0    0.0    0.0    0.0   \n",
              "..         ...    ...    ...    ...    ...    ...    ...    ...    ...    ...   \n",
              "535    Node535    0.0    0.0    0.0    0.0    0.0    0.0    0.0    0.0    0.0   \n",
              "536    Node536    0.0    0.0    0.0    0.0    0.0    0.0    0.0    0.0    0.0   \n",
              "537    Node537    0.0    0.0    1.0    0.0    0.0    0.0    1.0    1.0    0.0   \n",
              "538    Node538    0.0    0.0    1.0    0.0    1.0    0.0    0.0    0.0    0.0   \n",
              "539    Node539    0.0    0.0    0.0    0.0    0.0    0.0    1.0    1.0    0.0   \n",
              "\n",
              "     ...  Node530  Node531  Node532  Node533  Node534  Node535  Node536  \\\n",
              "0    ...      0.0      0.0      0.0      0.0      0.0      0.0      0.0   \n",
              "1    ...      0.0      1.0      1.0      0.0      0.0      0.0      0.0   \n",
              "2    ...      0.0      0.0      1.0      0.0      1.0      0.0      0.0   \n",
              "3    ...      0.0      0.0      0.0      0.0      0.0      0.0      0.0   \n",
              "4    ...      0.0      0.0      0.0      1.0      1.0      0.0      0.0   \n",
              "..   ...      ...      ...      ...      ...      ...      ...      ...   \n",
              "535  ...      0.0      0.0      1.0      1.0      0.0      0.0      0.0   \n",
              "536  ...      1.0      1.0      1.0      0.0      0.0      0.0      0.0   \n",
              "537  ...      0.0      0.0      1.0      0.0      0.0      0.0      1.0   \n",
              "538  ...      0.0      0.0      1.0      0.0      0.0      0.0      1.0   \n",
              "539  ...      0.0      0.0      1.0      1.0      0.0      1.0      0.0   \n",
              "\n",
              "     Node537  Node538  Node539  \n",
              "0        0.0      0.0      0.0  \n",
              "1        0.0      0.0      0.0  \n",
              "2        1.0      1.0      0.0  \n",
              "3        0.0      0.0      0.0  \n",
              "4        0.0      1.0      0.0  \n",
              "..       ...      ...      ...  \n",
              "535      0.0      0.0      1.0  \n",
              "536      1.0      1.0      0.0  \n",
              "537      0.0      0.0      1.0  \n",
              "538      0.0      0.0      0.0  \n",
              "539      1.0      0.0      0.0  \n",
              "\n",
              "[540 rows x 541 columns]"
            ],
            "text/html": [
              "\n",
              "  <div id=\"df-ebd5cbcc-67c5-4acf-b193-a9d816ea94fa\" class=\"colab-df-container\">\n",
              "    <div>\n",
              "<style scoped>\n",
              "    .dataframe tbody tr th:only-of-type {\n",
              "        vertical-align: middle;\n",
              "    }\n",
              "\n",
              "    .dataframe tbody tr th {\n",
              "        vertical-align: top;\n",
              "    }\n",
              "\n",
              "    .dataframe thead th {\n",
              "        text-align: right;\n",
              "    }\n",
              "</style>\n",
              "<table border=\"1\" class=\"dataframe\">\n",
              "  <thead>\n",
              "    <tr style=\"text-align: right;\">\n",
              "      <th></th>\n",
              "      <th>Unnamed: 0</th>\n",
              "      <th>Node0</th>\n",
              "      <th>Node1</th>\n",
              "      <th>Node2</th>\n",
              "      <th>Node3</th>\n",
              "      <th>Node4</th>\n",
              "      <th>Node5</th>\n",
              "      <th>Node6</th>\n",
              "      <th>Node7</th>\n",
              "      <th>Node8</th>\n",
              "      <th>...</th>\n",
              "      <th>Node530</th>\n",
              "      <th>Node531</th>\n",
              "      <th>Node532</th>\n",
              "      <th>Node533</th>\n",
              "      <th>Node534</th>\n",
              "      <th>Node535</th>\n",
              "      <th>Node536</th>\n",
              "      <th>Node537</th>\n",
              "      <th>Node538</th>\n",
              "      <th>Node539</th>\n",
              "    </tr>\n",
              "  </thead>\n",
              "  <tbody>\n",
              "    <tr>\n",
              "      <th>0</th>\n",
              "      <td>Node0</td>\n",
              "      <td>0.0</td>\n",
              "      <td>0.0</td>\n",
              "      <td>1.0</td>\n",
              "      <td>0.0</td>\n",
              "      <td>0.0</td>\n",
              "      <td>0.0</td>\n",
              "      <td>0.0</td>\n",
              "      <td>0.0</td>\n",
              "      <td>0.0</td>\n",
              "      <td>...</td>\n",
              "      <td>0.0</td>\n",
              "      <td>0.0</td>\n",
              "      <td>0.0</td>\n",
              "      <td>0.0</td>\n",
              "      <td>0.0</td>\n",
              "      <td>0.0</td>\n",
              "      <td>0.0</td>\n",
              "      <td>0.0</td>\n",
              "      <td>0.0</td>\n",
              "      <td>0.0</td>\n",
              "    </tr>\n",
              "    <tr>\n",
              "      <th>1</th>\n",
              "      <td>Node1</td>\n",
              "      <td>0.0</td>\n",
              "      <td>0.0</td>\n",
              "      <td>0.0</td>\n",
              "      <td>0.0</td>\n",
              "      <td>1.0</td>\n",
              "      <td>1.0</td>\n",
              "      <td>0.0</td>\n",
              "      <td>0.0</td>\n",
              "      <td>0.0</td>\n",
              "      <td>...</td>\n",
              "      <td>0.0</td>\n",
              "      <td>1.0</td>\n",
              "      <td>1.0</td>\n",
              "      <td>0.0</td>\n",
              "      <td>0.0</td>\n",
              "      <td>0.0</td>\n",
              "      <td>0.0</td>\n",
              "      <td>0.0</td>\n",
              "      <td>0.0</td>\n",
              "      <td>0.0</td>\n",
              "    </tr>\n",
              "    <tr>\n",
              "      <th>2</th>\n",
              "      <td>Node2</td>\n",
              "      <td>1.0</td>\n",
              "      <td>0.0</td>\n",
              "      <td>0.0</td>\n",
              "      <td>0.0</td>\n",
              "      <td>0.0</td>\n",
              "      <td>1.0</td>\n",
              "      <td>0.0</td>\n",
              "      <td>1.0</td>\n",
              "      <td>0.0</td>\n",
              "      <td>...</td>\n",
              "      <td>0.0</td>\n",
              "      <td>0.0</td>\n",
              "      <td>1.0</td>\n",
              "      <td>0.0</td>\n",
              "      <td>1.0</td>\n",
              "      <td>0.0</td>\n",
              "      <td>0.0</td>\n",
              "      <td>1.0</td>\n",
              "      <td>1.0</td>\n",
              "      <td>0.0</td>\n",
              "    </tr>\n",
              "    <tr>\n",
              "      <th>3</th>\n",
              "      <td>Node3</td>\n",
              "      <td>0.0</td>\n",
              "      <td>0.0</td>\n",
              "      <td>0.0</td>\n",
              "      <td>0.0</td>\n",
              "      <td>0.0</td>\n",
              "      <td>0.0</td>\n",
              "      <td>1.0</td>\n",
              "      <td>0.0</td>\n",
              "      <td>0.0</td>\n",
              "      <td>...</td>\n",
              "      <td>0.0</td>\n",
              "      <td>0.0</td>\n",
              "      <td>0.0</td>\n",
              "      <td>0.0</td>\n",
              "      <td>0.0</td>\n",
              "      <td>0.0</td>\n",
              "      <td>0.0</td>\n",
              "      <td>0.0</td>\n",
              "      <td>0.0</td>\n",
              "      <td>0.0</td>\n",
              "    </tr>\n",
              "    <tr>\n",
              "      <th>4</th>\n",
              "      <td>Node4</td>\n",
              "      <td>0.0</td>\n",
              "      <td>1.0</td>\n",
              "      <td>0.0</td>\n",
              "      <td>0.0</td>\n",
              "      <td>0.0</td>\n",
              "      <td>1.0</td>\n",
              "      <td>0.0</td>\n",
              "      <td>0.0</td>\n",
              "      <td>0.0</td>\n",
              "      <td>...</td>\n",
              "      <td>0.0</td>\n",
              "      <td>0.0</td>\n",
              "      <td>0.0</td>\n",
              "      <td>1.0</td>\n",
              "      <td>1.0</td>\n",
              "      <td>0.0</td>\n",
              "      <td>0.0</td>\n",
              "      <td>0.0</td>\n",
              "      <td>1.0</td>\n",
              "      <td>0.0</td>\n",
              "    </tr>\n",
              "    <tr>\n",
              "      <th>...</th>\n",
              "      <td>...</td>\n",
              "      <td>...</td>\n",
              "      <td>...</td>\n",
              "      <td>...</td>\n",
              "      <td>...</td>\n",
              "      <td>...</td>\n",
              "      <td>...</td>\n",
              "      <td>...</td>\n",
              "      <td>...</td>\n",
              "      <td>...</td>\n",
              "      <td>...</td>\n",
              "      <td>...</td>\n",
              "      <td>...</td>\n",
              "      <td>...</td>\n",
              "      <td>...</td>\n",
              "      <td>...</td>\n",
              "      <td>...</td>\n",
              "      <td>...</td>\n",
              "      <td>...</td>\n",
              "      <td>...</td>\n",
              "      <td>...</td>\n",
              "    </tr>\n",
              "    <tr>\n",
              "      <th>535</th>\n",
              "      <td>Node535</td>\n",
              "      <td>0.0</td>\n",
              "      <td>0.0</td>\n",
              "      <td>0.0</td>\n",
              "      <td>0.0</td>\n",
              "      <td>0.0</td>\n",
              "      <td>0.0</td>\n",
              "      <td>0.0</td>\n",
              "      <td>0.0</td>\n",
              "      <td>0.0</td>\n",
              "      <td>...</td>\n",
              "      <td>0.0</td>\n",
              "      <td>0.0</td>\n",
              "      <td>1.0</td>\n",
              "      <td>1.0</td>\n",
              "      <td>0.0</td>\n",
              "      <td>0.0</td>\n",
              "      <td>0.0</td>\n",
              "      <td>0.0</td>\n",
              "      <td>0.0</td>\n",
              "      <td>1.0</td>\n",
              "    </tr>\n",
              "    <tr>\n",
              "      <th>536</th>\n",
              "      <td>Node536</td>\n",
              "      <td>0.0</td>\n",
              "      <td>0.0</td>\n",
              "      <td>0.0</td>\n",
              "      <td>0.0</td>\n",
              "      <td>0.0</td>\n",
              "      <td>0.0</td>\n",
              "      <td>0.0</td>\n",
              "      <td>0.0</td>\n",
              "      <td>0.0</td>\n",
              "      <td>...</td>\n",
              "      <td>1.0</td>\n",
              "      <td>1.0</td>\n",
              "      <td>1.0</td>\n",
              "      <td>0.0</td>\n",
              "      <td>0.0</td>\n",
              "      <td>0.0</td>\n",
              "      <td>0.0</td>\n",
              "      <td>1.0</td>\n",
              "      <td>1.0</td>\n",
              "      <td>0.0</td>\n",
              "    </tr>\n",
              "    <tr>\n",
              "      <th>537</th>\n",
              "      <td>Node537</td>\n",
              "      <td>0.0</td>\n",
              "      <td>0.0</td>\n",
              "      <td>1.0</td>\n",
              "      <td>0.0</td>\n",
              "      <td>0.0</td>\n",
              "      <td>0.0</td>\n",
              "      <td>1.0</td>\n",
              "      <td>1.0</td>\n",
              "      <td>0.0</td>\n",
              "      <td>...</td>\n",
              "      <td>0.0</td>\n",
              "      <td>0.0</td>\n",
              "      <td>1.0</td>\n",
              "      <td>0.0</td>\n",
              "      <td>0.0</td>\n",
              "      <td>0.0</td>\n",
              "      <td>1.0</td>\n",
              "      <td>0.0</td>\n",
              "      <td>0.0</td>\n",
              "      <td>1.0</td>\n",
              "    </tr>\n",
              "    <tr>\n",
              "      <th>538</th>\n",
              "      <td>Node538</td>\n",
              "      <td>0.0</td>\n",
              "      <td>0.0</td>\n",
              "      <td>1.0</td>\n",
              "      <td>0.0</td>\n",
              "      <td>1.0</td>\n",
              "      <td>0.0</td>\n",
              "      <td>0.0</td>\n",
              "      <td>0.0</td>\n",
              "      <td>0.0</td>\n",
              "      <td>...</td>\n",
              "      <td>0.0</td>\n",
              "      <td>0.0</td>\n",
              "      <td>1.0</td>\n",
              "      <td>0.0</td>\n",
              "      <td>0.0</td>\n",
              "      <td>0.0</td>\n",
              "      <td>1.0</td>\n",
              "      <td>0.0</td>\n",
              "      <td>0.0</td>\n",
              "      <td>0.0</td>\n",
              "    </tr>\n",
              "    <tr>\n",
              "      <th>539</th>\n",
              "      <td>Node539</td>\n",
              "      <td>0.0</td>\n",
              "      <td>0.0</td>\n",
              "      <td>0.0</td>\n",
              "      <td>0.0</td>\n",
              "      <td>0.0</td>\n",
              "      <td>0.0</td>\n",
              "      <td>1.0</td>\n",
              "      <td>1.0</td>\n",
              "      <td>0.0</td>\n",
              "      <td>...</td>\n",
              "      <td>0.0</td>\n",
              "      <td>0.0</td>\n",
              "      <td>1.0</td>\n",
              "      <td>1.0</td>\n",
              "      <td>0.0</td>\n",
              "      <td>1.0</td>\n",
              "      <td>0.0</td>\n",
              "      <td>1.0</td>\n",
              "      <td>0.0</td>\n",
              "      <td>0.0</td>\n",
              "    </tr>\n",
              "  </tbody>\n",
              "</table>\n",
              "<p>540 rows × 541 columns</p>\n",
              "</div>\n",
              "    <div class=\"colab-df-buttons\">\n",
              "\n",
              "  <div class=\"colab-df-container\">\n",
              "    <button class=\"colab-df-convert\" onclick=\"convertToInteractive('df-ebd5cbcc-67c5-4acf-b193-a9d816ea94fa')\"\n",
              "            title=\"Convert this dataframe to an interactive table.\"\n",
              "            style=\"display:none;\">\n",
              "\n",
              "  <svg xmlns=\"http://www.w3.org/2000/svg\" height=\"24px\" viewBox=\"0 -960 960 960\">\n",
              "    <path d=\"M120-120v-720h720v720H120Zm60-500h600v-160H180v160Zm220 220h160v-160H400v160Zm0 220h160v-160H400v160ZM180-400h160v-160H180v160Zm440 0h160v-160H620v160ZM180-180h160v-160H180v160Zm440 0h160v-160H620v160Z\"/>\n",
              "  </svg>\n",
              "    </button>\n",
              "\n",
              "  <style>\n",
              "    .colab-df-container {\n",
              "      display:flex;\n",
              "      gap: 12px;\n",
              "    }\n",
              "\n",
              "    .colab-df-convert {\n",
              "      background-color: #E8F0FE;\n",
              "      border: none;\n",
              "      border-radius: 50%;\n",
              "      cursor: pointer;\n",
              "      display: none;\n",
              "      fill: #1967D2;\n",
              "      height: 32px;\n",
              "      padding: 0 0 0 0;\n",
              "      width: 32px;\n",
              "    }\n",
              "\n",
              "    .colab-df-convert:hover {\n",
              "      background-color: #E2EBFA;\n",
              "      box-shadow: 0px 1px 2px rgba(60, 64, 67, 0.3), 0px 1px 3px 1px rgba(60, 64, 67, 0.15);\n",
              "      fill: #174EA6;\n",
              "    }\n",
              "\n",
              "    .colab-df-buttons div {\n",
              "      margin-bottom: 4px;\n",
              "    }\n",
              "\n",
              "    [theme=dark] .colab-df-convert {\n",
              "      background-color: #3B4455;\n",
              "      fill: #D2E3FC;\n",
              "    }\n",
              "\n",
              "    [theme=dark] .colab-df-convert:hover {\n",
              "      background-color: #434B5C;\n",
              "      box-shadow: 0px 1px 3px 1px rgba(0, 0, 0, 0.15);\n",
              "      filter: drop-shadow(0px 1px 2px rgba(0, 0, 0, 0.3));\n",
              "      fill: #FFFFFF;\n",
              "    }\n",
              "  </style>\n",
              "\n",
              "    <script>\n",
              "      const buttonEl =\n",
              "        document.querySelector('#df-ebd5cbcc-67c5-4acf-b193-a9d816ea94fa button.colab-df-convert');\n",
              "      buttonEl.style.display =\n",
              "        google.colab.kernel.accessAllowed ? 'block' : 'none';\n",
              "\n",
              "      async function convertToInteractive(key) {\n",
              "        const element = document.querySelector('#df-ebd5cbcc-67c5-4acf-b193-a9d816ea94fa');\n",
              "        const dataTable =\n",
              "          await google.colab.kernel.invokeFunction('convertToInteractive',\n",
              "                                                    [key], {});\n",
              "        if (!dataTable) return;\n",
              "\n",
              "        const docLinkHtml = 'Like what you see? Visit the ' +\n",
              "          '<a target=\"_blank\" href=https://colab.research.google.com/notebooks/data_table.ipynb>data table notebook</a>'\n",
              "          + ' to learn more about interactive tables.';\n",
              "        element.innerHTML = '';\n",
              "        dataTable['output_type'] = 'display_data';\n",
              "        await google.colab.output.renderOutput(dataTable, element);\n",
              "        const docLink = document.createElement('div');\n",
              "        docLink.innerHTML = docLinkHtml;\n",
              "        element.appendChild(docLink);\n",
              "      }\n",
              "    </script>\n",
              "  </div>\n",
              "\n",
              "\n",
              "<div id=\"df-9d6f1501-d781-4d56-aaec-c7af4f83e9d4\">\n",
              "  <button class=\"colab-df-quickchart\" onclick=\"quickchart('df-9d6f1501-d781-4d56-aaec-c7af4f83e9d4')\"\n",
              "            title=\"Suggest charts\"\n",
              "            style=\"display:none;\">\n",
              "\n",
              "<svg xmlns=\"http://www.w3.org/2000/svg\" height=\"24px\"viewBox=\"0 0 24 24\"\n",
              "     width=\"24px\">\n",
              "    <g>\n",
              "        <path d=\"M19 3H5c-1.1 0-2 .9-2 2v14c0 1.1.9 2 2 2h14c1.1 0 2-.9 2-2V5c0-1.1-.9-2-2-2zM9 17H7v-7h2v7zm4 0h-2V7h2v10zm4 0h-2v-4h2v4z\"/>\n",
              "    </g>\n",
              "</svg>\n",
              "  </button>\n",
              "\n",
              "<style>\n",
              "  .colab-df-quickchart {\n",
              "      --bg-color: #E8F0FE;\n",
              "      --fill-color: #1967D2;\n",
              "      --hover-bg-color: #E2EBFA;\n",
              "      --hover-fill-color: #174EA6;\n",
              "      --disabled-fill-color: #AAA;\n",
              "      --disabled-bg-color: #DDD;\n",
              "  }\n",
              "\n",
              "  [theme=dark] .colab-df-quickchart {\n",
              "      --bg-color: #3B4455;\n",
              "      --fill-color: #D2E3FC;\n",
              "      --hover-bg-color: #434B5C;\n",
              "      --hover-fill-color: #FFFFFF;\n",
              "      --disabled-bg-color: #3B4455;\n",
              "      --disabled-fill-color: #666;\n",
              "  }\n",
              "\n",
              "  .colab-df-quickchart {\n",
              "    background-color: var(--bg-color);\n",
              "    border: none;\n",
              "    border-radius: 50%;\n",
              "    cursor: pointer;\n",
              "    display: none;\n",
              "    fill: var(--fill-color);\n",
              "    height: 32px;\n",
              "    padding: 0;\n",
              "    width: 32px;\n",
              "  }\n",
              "\n",
              "  .colab-df-quickchart:hover {\n",
              "    background-color: var(--hover-bg-color);\n",
              "    box-shadow: 0 1px 2px rgba(60, 64, 67, 0.3), 0 1px 3px 1px rgba(60, 64, 67, 0.15);\n",
              "    fill: var(--button-hover-fill-color);\n",
              "  }\n",
              "\n",
              "  .colab-df-quickchart-complete:disabled,\n",
              "  .colab-df-quickchart-complete:disabled:hover {\n",
              "    background-color: var(--disabled-bg-color);\n",
              "    fill: var(--disabled-fill-color);\n",
              "    box-shadow: none;\n",
              "  }\n",
              "\n",
              "  .colab-df-spinner {\n",
              "    border: 2px solid var(--fill-color);\n",
              "    border-color: transparent;\n",
              "    border-bottom-color: var(--fill-color);\n",
              "    animation:\n",
              "      spin 1s steps(1) infinite;\n",
              "  }\n",
              "\n",
              "  @keyframes spin {\n",
              "    0% {\n",
              "      border-color: transparent;\n",
              "      border-bottom-color: var(--fill-color);\n",
              "      border-left-color: var(--fill-color);\n",
              "    }\n",
              "    20% {\n",
              "      border-color: transparent;\n",
              "      border-left-color: var(--fill-color);\n",
              "      border-top-color: var(--fill-color);\n",
              "    }\n",
              "    30% {\n",
              "      border-color: transparent;\n",
              "      border-left-color: var(--fill-color);\n",
              "      border-top-color: var(--fill-color);\n",
              "      border-right-color: var(--fill-color);\n",
              "    }\n",
              "    40% {\n",
              "      border-color: transparent;\n",
              "      border-right-color: var(--fill-color);\n",
              "      border-top-color: var(--fill-color);\n",
              "    }\n",
              "    60% {\n",
              "      border-color: transparent;\n",
              "      border-right-color: var(--fill-color);\n",
              "    }\n",
              "    80% {\n",
              "      border-color: transparent;\n",
              "      border-right-color: var(--fill-color);\n",
              "      border-bottom-color: var(--fill-color);\n",
              "    }\n",
              "    90% {\n",
              "      border-color: transparent;\n",
              "      border-bottom-color: var(--fill-color);\n",
              "    }\n",
              "  }\n",
              "</style>\n",
              "\n",
              "  <script>\n",
              "    async function quickchart(key) {\n",
              "      const quickchartButtonEl =\n",
              "        document.querySelector('#' + key + ' button');\n",
              "      quickchartButtonEl.disabled = true;  // To prevent multiple clicks.\n",
              "      quickchartButtonEl.classList.add('colab-df-spinner');\n",
              "      try {\n",
              "        const charts = await google.colab.kernel.invokeFunction(\n",
              "            'suggestCharts', [key], {});\n",
              "      } catch (error) {\n",
              "        console.error('Error during call to suggestCharts:', error);\n",
              "      }\n",
              "      quickchartButtonEl.classList.remove('colab-df-spinner');\n",
              "      quickchartButtonEl.classList.add('colab-df-quickchart-complete');\n",
              "    }\n",
              "    (() => {\n",
              "      let quickchartButtonEl =\n",
              "        document.querySelector('#df-9d6f1501-d781-4d56-aaec-c7af4f83e9d4 button');\n",
              "      quickchartButtonEl.style.display =\n",
              "        google.colab.kernel.accessAllowed ? 'block' : 'none';\n",
              "    })();\n",
              "  </script>\n",
              "</div>\n",
              "\n",
              "  <div id=\"id_0375ee4d-344d-430d-80c2-5f3ed817c705\">\n",
              "    <style>\n",
              "      .colab-df-generate {\n",
              "        background-color: #E8F0FE;\n",
              "        border: none;\n",
              "        border-radius: 50%;\n",
              "        cursor: pointer;\n",
              "        display: none;\n",
              "        fill: #1967D2;\n",
              "        height: 32px;\n",
              "        padding: 0 0 0 0;\n",
              "        width: 32px;\n",
              "      }\n",
              "\n",
              "      .colab-df-generate:hover {\n",
              "        background-color: #E2EBFA;\n",
              "        box-shadow: 0px 1px 2px rgba(60, 64, 67, 0.3), 0px 1px 3px 1px rgba(60, 64, 67, 0.15);\n",
              "        fill: #174EA6;\n",
              "      }\n",
              "\n",
              "      [theme=dark] .colab-df-generate {\n",
              "        background-color: #3B4455;\n",
              "        fill: #D2E3FC;\n",
              "      }\n",
              "\n",
              "      [theme=dark] .colab-df-generate:hover {\n",
              "        background-color: #434B5C;\n",
              "        box-shadow: 0px 1px 3px 1px rgba(0, 0, 0, 0.15);\n",
              "        filter: drop-shadow(0px 1px 2px rgba(0, 0, 0, 0.3));\n",
              "        fill: #FFFFFF;\n",
              "      }\n",
              "    </style>\n",
              "    <button class=\"colab-df-generate\" onclick=\"generateWithVariable('df_mem_links')\"\n",
              "            title=\"Generate code using this dataframe.\"\n",
              "            style=\"display:none;\">\n",
              "\n",
              "  <svg xmlns=\"http://www.w3.org/2000/svg\" height=\"24px\"viewBox=\"0 0 24 24\"\n",
              "       width=\"24px\">\n",
              "    <path d=\"M7,19H8.4L18.45,9,17,7.55,7,17.6ZM5,21V16.75L18.45,3.32a2,2,0,0,1,2.83,0l1.4,1.43a1.91,1.91,0,0,1,.58,1.4,1.91,1.91,0,0,1-.58,1.4L9.25,21ZM18.45,9,17,7.55Zm-12,3A5.31,5.31,0,0,0,4.9,8.1,5.31,5.31,0,0,0,1,6.5,5.31,5.31,0,0,0,4.9,4.9,5.31,5.31,0,0,0,6.5,1,5.31,5.31,0,0,0,8.1,4.9,5.31,5.31,0,0,0,12,6.5,5.46,5.46,0,0,0,6.5,12Z\"/>\n",
              "  </svg>\n",
              "    </button>\n",
              "    <script>\n",
              "      (() => {\n",
              "      const buttonEl =\n",
              "        document.querySelector('#id_0375ee4d-344d-430d-80c2-5f3ed817c705 button.colab-df-generate');\n",
              "      buttonEl.style.display =\n",
              "        google.colab.kernel.accessAllowed ? 'block' : 'none';\n",
              "\n",
              "      buttonEl.onclick = () => {\n",
              "        google.colab.notebook.generateWithVariable('df_mem_links');\n",
              "      }\n",
              "      })();\n",
              "    </script>\n",
              "  </div>\n",
              "\n",
              "    </div>\n",
              "  </div>\n"
            ],
            "application/vnd.google.colaboratory.intrinsic+json": {
              "type": "dataframe",
              "variable_name": "df_mem_links"
            }
          },
          "metadata": {},
          "execution_count": 20
        }
      ]
    },
    {
      "cell_type": "markdown",
      "source": [
        "## 77. 링크 수의 분포를 가시화해보자"
      ],
      "metadata": {
        "id": "m2z9yNtQN1rF"
      }
    },
    {
      "cell_type": "markdown",
      "source": [
        "< 네트워크의 구조 >\n",
        "- 스몰 월드형: 몇 안 되는 스텝으로 전원이 연결되는 구조\n",
        "- 스케일 프리형: 소수의 연결을 많이 가지는 사람이 허브가 되는 구조"
      ],
      "metadata": {
        "id": "SvLjnjfRODjT"
      }
    },
    {
      "cell_type": "code",
      "source": [
        "NUM = len(df_mem_links.index)   # 노드수\n",
        "array_linkNum = np.zeros(NUM)\n",
        "for i in range(NUM):\n",
        "    array_linkNum[i] = sum(df_mem_links[\"Node\"+str(i)])   # 노드의 연결 수"
      ],
      "metadata": {
        "id": "IK7mrfjKN4dQ"
      },
      "execution_count": 21,
      "outputs": []
    },
    {
      "cell_type": "code",
      "source": [
        "# hist: 히스토그램\n",
        "plt.hist(array_linkNum, bins=10,range=(0,250))    # 연결 수 시각화, 0~250을 10구간으로\n",
        "plt.show()"
      ],
      "metadata": {
        "colab": {
          "base_uri": "https://localhost:8080/",
          "height": 430
        },
        "id": "WV-dHrkeOaNA",
        "outputId": "2c816c2c-994e-4182-ac6f-d34e59540db3"
      },
      "execution_count": 22,
      "outputs": [
        {
          "output_type": "display_data",
          "data": {
            "text/plain": [
              "<Figure size 640x480 with 1 Axes>"
            ],
            "image/png": "[encoded data removed]"
          },
          "metadata": {}
        }
      ]
    },
    {
      "cell_type": "markdown",
      "source": [
        "< 히스토그램 분석 >\n",
        "- x축: 각 노드의 연결 개수\n",
        "- y축: 해당 연결 수를 가진 노드수\n",
        "\n",
        "- 대부분의 노드들이 유사한 링크 수를 가지고 있는 분포: **정규 분포**의 형태\n",
        "    - 정규 분포: 데이터가 평균을 중심으로 대칭의 분포를 띤다\n",
        "        - **허브에 의존하지 않고 입소문이 퍼지기 쉽다**\n",
        "    - 스케일 프리 네트워크: 일부 노드가 매우 많은 연결을 가진다(허브 역할)\n",
        "        - 허브가 작동하지 않으면(입소문을 퍼 뜨리지 않으면) 입소문이 중간에 퍼지지 않는다"
      ],
      "metadata": {
        "id": "j5nsxlF4OzUW"
      }
    },
    {
      "cell_type": "markdown",
      "source": [
        "## 78. 시뮬레이션을 위해 실제 데이터로부터 파라미터를 추정하자"
      ],
      "metadata": {
        "id": "GqjalFqkQ04Z"
      }
    },
    {
      "cell_type": "markdown",
      "source": [
        "- 추정할 파라미터: 입소문 확산 확률, 소멸 확률\n",
        "    - 소멸 확률: 노드가 활성화(1)에서 비활성화(0)상태로 변화한 비율\n",
        "    - 확산 확률: 노드가 비활성화(0)에서 활성화(1)상태로 변화한 비율"
      ],
      "metadata": {
        "id": "cu0GzFSURFV3"
      }
    },
    {
      "cell_type": "code",
      "source": [
        "NUM = len(df_mem_info.index)\n",
        "T_NUM = len(df_mem_info.columns)-1\n",
        "\n",
        "# 소멸 확률 추정\n",
        "count_active = 0\n",
        "count_active_to_inactive = 0\n",
        "for t in range(1,T_NUM):\n",
        "    for i in range(NUM):\n",
        "        if (df_mem_info.iloc[i][t]==1):       # 시간 t에서 노드가 활성화된 경우\n",
        "            count_active_to_inactive += 1     # 활성화된 노드수 증가\n",
        "            if (df_mem_info.iloc[i][t+1]==0):       # 다음 시간 t+1에서 비활성화된 경우\n",
        "                count_active += 1                   # 활성화에서 비활성화로 변화한 경우 증가\n",
        "estimated_percent_disapparence = count_active/count_active_to_inactive"
      ],
      "metadata": {
        "id": "2MkD_931Q5rW"
      },
      "execution_count": 23,
      "outputs": []
    },
    {
      "cell_type": "code",
      "source": [
        "# 확산 확률 추정\n",
        "count_link = 0\n",
        "count_link_to_active = 0\n",
        "count_link_temp = 0\n",
        "for t in range(T_NUM-1):\n",
        "    df_link_t = df_mem_info[df_mem_info[str(t)]==1]     # 활성화된 노드\n",
        "    temp_flag_count = np.zeros(NUM)                     # 이미 활성화 되었는지, 중복 방지\n",
        "\n",
        "    # 활성화된 노드에 연결된 비활성화 노드 탐색\n",
        "    for i in range(len(df_link_t.index)):\n",
        "        df_link_temp = df_mem_links[df_mem_links[\"Node\"+str(df_link_t.index[i])]==1]\n",
        "        for j in range(len(df_link_temp.index)):\n",
        "            if (df_mem_info.iloc[df_link_temp.index[j]][t]==0):\n",
        "                if (temp_flag_count[df_link_temp.index[j]]==0):\n",
        "                    count_link += 1                     # 비활성화된 노드수 증가\n",
        "                # 비활성화 노드가 활성화로 전환되었는지\n",
        "                if (df_mem_info.iloc[df_link_temp.index[j]][t+1]==1):\n",
        "                    if (temp_flag_count[df_link_temp.index[j]]==0):\n",
        "                        temp_flag_count[df_link_temp.index[j]] = 1\n",
        "                        count_link_to_active += 1       # 비활성화에서 활성화로 전환된 노드수 증가\n",
        "estimated_percent_percolation = count_link_to_active/count_link"
      ],
      "metadata": {
        "id": "4Jt2VhFYRR76"
      },
      "execution_count": 24,
      "outputs": []
    },
    {
      "cell_type": "code",
      "source": [
        "estimated_percent_disapparence"
      ],
      "metadata": {
        "colab": {
          "base_uri": "https://localhost:8080/"
        },
        "id": "uwYUYOZeRVnU",
        "outputId": "6cd49c41-6786-4141-86f7-3f3fc4631592"
      },
      "execution_count": 25,
      "outputs": [
        {
          "output_type": "execute_result",
          "data": {
            "text/plain": [
              "0.10147163541419416"
            ]
          },
          "metadata": {},
          "execution_count": 25
        }
      ]
    },
    {
      "cell_type": "code",
      "source": [
        "estimated_percent_percolation"
      ],
      "metadata": {
        "colab": {
          "base_uri": "https://localhost:8080/"
        },
        "id": "ELrqh8jySjX4",
        "outputId": "09d6dfe6-602a-4444-dfd5-1040cf390ce6"
      },
      "execution_count": 26,
      "outputs": [
        {
          "output_type": "execute_result",
          "data": {
            "text/plain": [
              "0.025184661323275185"
            ]
          },
          "metadata": {},
          "execution_count": 26
        }
      ]
    },
    {
      "cell_type": "markdown",
      "source": [
        "## 79. 실제 데이터와 시뮬레이션을 비교하자"
      ],
      "metadata": {
        "id": "Qa6dcFG7Skuq"
      }
    },
    {
      "cell_type": "markdown",
      "source": [
        "- 78에서 추정한 확산 확률, 소멸 확률을 이용해서 시뮬레이션을 실행하자"
      ],
      "metadata": {
        "id": "d7XNNNydTbGj"
      }
    },
    {
      "cell_type": "markdown",
      "source": [
        "#### 시뮬레이션"
      ],
      "metadata": {
        "id": "ENzqrjN_Tx_-"
      }
    },
    {
      "cell_type": "code",
      "source": [
        "percent_percolation = 0.025184661323275185\n",
        "percent_disapparence = 0.10147163541419416\n",
        "T_NUM = 24\n",
        "NUM = len(df_mem_links.index)\n",
        "list_active = np.zeros(NUM)\n",
        "list_active[0] = 1\n",
        "list_timeSeries = []\n",
        "\n",
        "# 각 시간 단계별로 확산 확률, 소멸 확률에 따라 활성화된 노드 상태를 업데이트\n",
        "for t in range(T_NUM):\n",
        "    list_active = simulate_population(NUM, list_active, percent_percolation, percent_disapparence,df_mem_links)\n",
        "    list_timeSeries.append(list_active.copy())"
      ],
      "metadata": {
        "id": "LeppKKnuTiND"
      },
      "execution_count": 27,
      "outputs": []
    },
    {
      "cell_type": "code",
      "source": [
        "list_timeSeries_num = []\n",
        "for i in range(len(list_timeSeries)):\n",
        "    list_timeSeries_num.append(sum(list_timeSeries[i]))"
      ],
      "metadata": {
        "id": "-MSuVCiJTjyO"
      },
      "execution_count": 28,
      "outputs": []
    },
    {
      "cell_type": "markdown",
      "source": [
        "#### 실제"
      ],
      "metadata": {
        "id": "o2wXnzpiTzkn"
      }
    },
    {
      "cell_type": "code",
      "source": [
        "T_NUM = len(df_mem_info.columns)-1\n",
        "list_timeSeries_num_real = []\n",
        "for t in range(0,T_NUM):\n",
        "    list_timeSeries_num_real.append(len(df_mem_info[df_mem_info[str(t)]==1].index))"
      ],
      "metadata": {
        "id": "uR5jbd55UBjd"
      },
      "execution_count": 29,
      "outputs": []
    },
    {
      "cell_type": "markdown",
      "source": [
        "#### 실제 데이터와 시뮬레이션을 시각화를 통해 비교해보자"
      ],
      "metadata": {
        "id": "8iitGozZUGOp"
      }
    },
    {
      "cell_type": "code",
      "source": [
        "plt.plot(list_timeSeries_num, label = 'simulated')\n",
        "plt.plot(list_timeSeries_num_real, label = 'real')\n",
        "plt.xlabel('month')\n",
        "plt.ylabel('population')\n",
        "plt.legend(loc='lower right')\n",
        "plt.show()"
      ],
      "metadata": {
        "colab": {
          "base_uri": "https://localhost:8080/",
          "height": 449
        },
        "id": "o8kWhu8HU0Qd",
        "outputId": "34deecb2-cdae-4ec2-d84e-19646a93f287"
      },
      "execution_count": 30,
      "outputs": [
        {
          "output_type": "display_data",
          "data": {
            "text/plain": [
              "<Figure size 640x480 with 1 Axes>"
            ],
            "image/png": "[encoded data removed]"
          },
          "metadata": {}
        }
      ]
    },
    {
      "cell_type": "markdown",
      "source": [
        "< 결과 분석 >\n",
        "- 실제와 시뮬레이션의 이용자 경향은 비슷하게 증가한다\n",
        "- 주의점: 시뮬레이션의 급격한 증가 지점은 난수의 영향으로 이르거나 빨리 증가하는 경우가 있기 때문에 오차가 생긴다\n",
        "- 예측 정확도를 높이기 위해서 시뮬레이션을 여러 번 실행해서 평균값을 계산해보자"
      ],
      "metadata": {
        "id": "pN0KngF4U6_n"
      }
    },
    {
      "cell_type": "markdown",
      "source": [
        "## 80. 시뮬레이션으로 미래를 예측해보자"
      ],
      "metadata": {
        "id": "aPk-1yZYU1-z"
      }
    },
    {
      "cell_type": "code",
      "source": [
        "percent_percolation = 0.025184661323275185\n",
        "percent_disapparence = 0.10147163541419416\n",
        "T_NUM = 36          # 시뮬레이터의 지속기간을 36개월로 설정\n",
        "NUM = len(df_mem_links.index)\n",
        "list_active = np.zeros(NUM)\n",
        "list_active[0] = 1\n",
        "list_timeSeries = []\n",
        "for t in range(T_NUM):\n",
        "    list_active = simulate_population(NUM, list_active, percent_percolation, percent_disapparence,df_mem_links)\n",
        "    list_timeSeries.append(list_active.copy())"
      ],
      "metadata": {
        "id": "GLsx8WmoVlkS"
      },
      "execution_count": 31,
      "outputs": []
    },
    {
      "cell_type": "code",
      "source": [
        "list_timeSeries_num = []\n",
        "for i in range(len(list_timeSeries)):\n",
        "    list_timeSeries_num.append(sum(list_timeSeries[i]))"
      ],
      "metadata": {
        "id": "1PqVJ_YxVxDU"
      },
      "execution_count": 32,
      "outputs": []
    },
    {
      "cell_type": "code",
      "source": [
        "plt.plot(list_timeSeries_num, label = 'simulated')\n",
        "plt.xlabel('month')\n",
        "plt.ylabel('population')\n",
        "plt.legend(loc='lower right')\n",
        "plt.show()"
      ],
      "metadata": {
        "colab": {
          "base_uri": "https://localhost:8080/",
          "height": 449
        },
        "id": "hXdQCLmLVyaw",
        "outputId": "5ebc2f4b-a392-4288-ab23-c36b31111b98"
      },
      "execution_count": 33,
      "outputs": [
        {
          "output_type": "display_data",
          "data": {
            "text/plain": [
              "<Figure size 640x480 with 1 Axes>"
            ],
            "image/png": "[encoded data removed]"
          },
          "metadata": {}
        }
      ]
    },
    {
      "cell_type": "markdown",
      "source": [
        "< 결과 분석 >\n",
        "- 24개월 이후부터는 population이 급격히 감소하지 않고 지속된다.\n",
        "- 미래 예측: population은 지속될 것이다!!"
      ],
      "metadata": {
        "id": "6X4UpGbnVzlH"
      }
    }
  ]
}